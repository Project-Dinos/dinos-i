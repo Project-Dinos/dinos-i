{
 "cells": [
  {
   "cell_type": "code",
   "execution_count": 17,
   "id": "7adca901",
   "metadata": {},
   "outputs": [],
   "source": [
    "import yaml\n",
    "import h5py\n",
    "import numpy as np\n",
    "import copy\n",
    "from dolphin.analysis.output import Output\n",
    "\n",
    "output = Output('../')"
   ]
  },
  {
   "cell_type": "code",
   "execution_count": 23,
   "id": "2c6c63aa",
   "metadata": {},
   "outputs": [],
   "source": [
    "\n",
    "lens_list =   [\"SDSSJ0029-0055\", \"SDSSJ0037-0942\", \"SDSSJ0252+0039\", \"SDSSJ0330-0020\", \"SDSSJ0728+3835\", \n",
    "               \"SDSSJ0737+3216\", \"SDSSJ0903+4116\", \"SDSSJ0959+0410\", \"SDSSJ1112+0826\", \"SDSSJ1204+0358\", \n",
    "               \"SDSSJ1250+0523\", \"SDSSJ1306+0600\", \"SDSSJ1313+4615\", \"SDSSJ1402+6321\", \"SDSSJ1531-0105\",\n",
    "               \"SDSSJ1621+3931\", \"SDSSJ1627-0053\", \"SDSSJ1630+4520\", \"SDSSJ1636+4707\", \"SDSSJ2238-0754\", \n",
    "               \"SDSSJ2300+0022\", \"SDSSJ2303+1422\", \"SDSSJ2343-0030\", ]\n"
   ]
  },
  {
   "cell_type": "code",
   "execution_count": 24,
   "id": "d485fdbf",
   "metadata": {},
   "outputs": [
    {
     "name": "stdout",
     "output_type": "stream",
     "text": [
      "SDSSJ0029-0055\n"
     ]
    },
    {
     "ename": "NameError",
     "evalue": "name 'yaml' is not defined",
     "output_type": "error",
     "traceback": [
      "\u001b[0;31m---------------------------------------------------------------------------\u001b[0m",
      "\u001b[0;31mNameError\u001b[0m                                 Traceback (most recent call last)",
      "\u001b[0;32m/tmp/ipykernel_13767/2072591562.py\u001b[0m in \u001b[0;36m<module>\u001b[0;34m\u001b[0m\n\u001b[1;32m      5\u001b[0m     \u001b[0;31m# Copy Settings\u001b[0m\u001b[0;34m\u001b[0m\u001b[0;34m\u001b[0m\u001b[0;34m\u001b[0m\u001b[0m\n\u001b[1;32m      6\u001b[0m     \u001b[0ma_yaml_file\u001b[0m \u001b[0;34m=\u001b[0m \u001b[0mopen\u001b[0m\u001b[0;34m(\u001b[0m\u001b[0;34m\"Fb01_prior_2/{}_config.yml\"\u001b[0m\u001b[0;34m.\u001b[0m\u001b[0mformat\u001b[0m\u001b[0;34m(\u001b[0m\u001b[0mobject_name\u001b[0m\u001b[0;34m)\u001b[0m\u001b[0;34m)\u001b[0m\u001b[0;34m\u001b[0m\u001b[0;34m\u001b[0m\u001b[0m\n\u001b[0;32m----> 7\u001b[0;31m     \u001b[0msettings\u001b[0m \u001b[0;34m=\u001b[0m \u001b[0myaml\u001b[0m\u001b[0;34m.\u001b[0m\u001b[0mload\u001b[0m\u001b[0;34m(\u001b[0m\u001b[0ma_yaml_file\u001b[0m\u001b[0;34m,\u001b[0m \u001b[0myaml\u001b[0m\u001b[0;34m.\u001b[0m\u001b[0mFullLoader\u001b[0m\u001b[0;34m)\u001b[0m\u001b[0;34m\u001b[0m\u001b[0;34m\u001b[0m\u001b[0m\n\u001b[0m\u001b[1;32m      8\u001b[0m \u001b[0;34m\u001b[0m\u001b[0m\n\u001b[1;32m      9\u001b[0m     \u001b[0;31m# Revert to PSO Run\u001b[0m\u001b[0;34m\u001b[0m\u001b[0;34m\u001b[0m\u001b[0;34m\u001b[0m\u001b[0m\n",
      "\u001b[0;31mNameError\u001b[0m: name 'yaml' is not defined"
     ]
    }
   ],
   "source": [
    "\n",
    "for object_name in lens_list:\n",
    "    \n",
    "    print(object_name)\n",
    "    \n",
    "    # Copy Settings\n",
    "    a_yaml_file = open(\"Fb01_prior_2/{}_config.yml\".format(object_name))\n",
    "    settings = yaml.load(a_yaml_file, yaml.FullLoader)\n",
    "    \n",
    "    # Revert to PSO Run\n",
    "    del settings['fitting']['mcmc_settings']['init_samples']\n",
    "    settings['fitting']['pso'] = True\n",
    "    settings['fitting']['mcmc_settings']['iteration_step'] = 2000  \n",
    "    \n",
    "    # Change priors by a little bit \n",
    "    settings['lens_option']['limit_mass_eccentricity_from_light'] = 0.1\n",
    "    settings[\"lens_option\"][\"gaussian_prior\"] = {0: [['gamma', 2.11, 0.11]]}\n",
    "       \n",
    "    # Remove e1 and e2 guesses \n",
    "    del settings['guess_params']['lens'][0]['e1']\n",
    "    del settings['guess_params']['lens'][0]['e2']    \n",
    "\n",
    "\n",
    "    noalias_dumper = yaml.dumper.SafeDumper  #Remove yaml alias\n",
    "    noalias_dumper.ignore_aliases = lambda self, data: True\n",
    "    with open(\"{}_config.yml\".format(object_name), 'w') as file: #Write settings file\n",
    "        yaml.dump(settings, file, Dumper=noalias_dumper)    \n"
   ]
  },
  {
   "cell_type": "raw",
   "id": "11fa3d6c",
   "metadata": {},
   "source": [
    "a_yaml_file = open(\"Fb01_prior_2/{}_config.yml\".format(\"SDSSJ0029-0055\"))\n",
    "settings = yaml.load(a_yaml_file, yaml.FullLoader)\n",
    "\n",
    " settings[\"lens_option\"][\"gaussian_prior\"]"
   ]
  },
  {
   "cell_type": "code",
   "execution_count": null,
   "id": "cf9f6406",
   "metadata": {},
   "outputs": [],
   "source": []
  },
  {
   "cell_type": "code",
   "execution_count": null,
   "id": "7ad9475a",
   "metadata": {},
   "outputs": [],
   "source": []
  }
 ],
 "metadata": {
  "kernelspec": {
   "display_name": "Python 3 (ipykernel)",
   "language": "python",
   "name": "python3"
  },
  "language_info": {
   "codemirror_mode": {
    "name": "ipython",
    "version": 3
   },
   "file_extension": ".py",
   "mimetype": "text/x-python",
   "name": "python",
   "nbconvert_exporter": "python",
   "pygments_lexer": "ipython3",
   "version": "3.7.11"
  }
 },
 "nbformat": 4,
 "nbformat_minor": 5
}
