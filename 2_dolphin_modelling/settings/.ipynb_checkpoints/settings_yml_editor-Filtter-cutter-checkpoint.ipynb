{
 "cells": [
  {
   "cell_type": "code",
   "execution_count": 20,
   "id": "731cf11e",
   "metadata": {},
   "outputs": [],
   "source": [
    "import yaml\n",
    "import h5py\n",
    "import numpy as np\n",
    "import copy\n",
    "from dolphin.analysis.output import Output\n",
    "import csv\n",
    "\n",
    "output = Output('../')"
   ]
  },
  {
   "cell_type": "code",
   "execution_count": 21,
   "id": "fcd0dcbd",
   "metadata": {},
   "outputs": [],
   "source": [
    "SLACS_Lenses  = ['SDSSJ0029-0055', 'SDSSJ0037-0942', 'SDSSJ0252+0039', 'SDSSJ0737+3216', 'SDSSJ0959+0410', \n",
    "                 'SDSSJ1621+3931', 'SDSSJ2300+0022',]\n",
    "\n",
    "SLACS_Lenses  = ['SDSSJ0029-0055', 'SDSSJ0037-0942','SDSSJ1621+3931']"
   ]
  },
  {
   "cell_type": "code",
   "execution_count": 22,
   "id": "a3a572f1",
   "metadata": {},
   "outputs": [],
   "source": [
    "single_settings = yaml.load(open(\"My1a/SDSSJ2343-0030_config.yml\"), yaml.FullLoader)"
   ]
  },
  {
   "cell_type": "code",
   "execution_count": 23,
   "id": "8d200c02",
   "metadata": {},
   "outputs": [
    {
     "name": "stdout",
     "output_type": "stream",
     "text": [
      "0\n",
      "1\n",
      "0\n"
     ]
    }
   ],
   "source": [
    "\n",
    "for object_name in SLACS_Lenses:\n",
    "    # Copy Settings\n",
    "    a_yaml_file = open(\"Sep1/{}_config.yml\".format(object_name))\n",
    "    settings = yaml.load(a_yaml_file, yaml.FullLoader)\n",
    "        \n",
    "    band_num = len(settings['band'])\n",
    "    settings['kwargs_constraints'] = single_settings['kwargs_constraints']\n",
    "    settings['model'] = single_settings['model']\n",
    "    settings['lens_light_option'] = single_settings['lens_light_option']\n",
    "    \n",
    "    band_index = settings['band'].index(\"F606W\")\n",
    "    \n",
    "    settings['band'] = ['F606W']\n",
    "    \n",
    "    print(band_index)\n",
    "       \n",
    "    \n",
    "    noalias_dumper = yaml.dumper.SafeDumper  #Remove yaml alias\n",
    "    noalias_dumper.ignore_aliases = lambda self, data: True\n",
    "    with open(\"{}_config.yml\".format(object_name), 'w') as file: #Write settings file\n",
    "        yaml.dump(settings, file, Dumper=noalias_dumper)    \n"
   ]
  },
  {
   "cell_type": "code",
   "execution_count": null,
   "id": "f7da1377",
   "metadata": {},
   "outputs": [],
   "source": []
  }
 ],
 "metadata": {
  "kernelspec": {
   "display_name": "Python 3 (ipykernel)",
   "language": "python",
   "name": "python3"
  },
  "language_info": {
   "codemirror_mode": {
    "name": "ipython",
    "version": 3
   },
   "file_extension": ".py",
   "mimetype": "text/x-python",
   "name": "python",
   "nbconvert_exporter": "python",
   "pygments_lexer": "ipython3",
   "version": "3.7.11"
  }
 },
 "nbformat": 4,
 "nbformat_minor": 5
}
