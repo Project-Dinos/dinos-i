{
 "cells": [
  {
   "cell_type": "code",
   "execution_count": 7,
   "id": "be594b33",
   "metadata": {},
   "outputs": [],
   "source": [
    "import yaml\n",
    "import numpy as np\n"
   ]
  },
  {
   "cell_type": "code",
   "execution_count": 8,
   "id": "3fd5e33d",
   "metadata": {},
   "outputs": [],
   "source": [
    "SLACS_Lenses  = ['SDSSJ0008-0004', 'SDSSJ0029-0055', 'SDSSJ0037-0942', 'SDSSJ0044+0113', 'SDSSJ0252+0039',\n",
    "                 'SDSSJ0330-0020', 'SDSSJ0728+3835', 'SDSSJ0737+3216', 'SDSSJ0819+4534', 'SDSSJ0903+4116',\n",
    "                 'SDSSJ0912+0029', 'SDSSJ0935-0003', 'SDSSJ0936+0913', 'SDSSJ0959+0410', 'SDSSJ0959+4416',\n",
    "                 'SDSSJ1016+3859', 'SDSSJ1020+1122', 'SDSSJ1023+4230', 'SDSSJ1100+5329', 'SDSSJ1112+0826',\n",
    "                 'SDSSJ1134+6027', 'SDSSJ1142+1001', 'SDSSJ1143-0144', 'SDSSJ1153+4612', 'SDSSJ1204+0358',\n",
    "                 'SDSSJ1213+6708', 'SDSSJ1218+0830', 'SDSSJ1250+0523', 'SDSSJ1306+0600', 'SDSSJ1313+4615',\n",
    "                 'SDSSJ1319+1504', 'SDSSJ1402+6321', 'SDSSJ1403+0006', 'SDSSJ1432+6317', 'SDSSJ1531-0105',\n",
    "                 'SDSSJ1538+5817', 'SDSSJ1614+4522', 'SDSSJ1621+3931', 'SDSSJ1627-0053', 'SDSSJ1630+4520',\n",
    "                 'SDSSJ1636+4707', 'SDSSJ1644+2625', 'SDSSJ2238-0754', 'SDSSJ2300+0022', 'SDSSJ2302-0840',\n",
    "                 'SDSSJ2303+1422', 'SDSSJ2321-0939', 'SDSSJ2341+0000', 'SDSSJ2343-0030', 'SDSSJ2347-0005']\n",
    "\n",
    "shajib_lenses =  [\n",
    " 'SDSSJ0029-0055',\n",
    " 'SDSSJ0037-0942',\n",
    " 'SDSSJ0252+0039', \n",
    " 'SDSSJ0330-0020', \n",
    " 'SDSSJ0728+3835',\n",
    " 'SDSSJ0737+3216',\n",
    " 'SDSSJ0903+4116',\n",
    " 'SDSSJ0959+0410',\n",
    " 'SDSSJ1112+0826', \n",
    " 'SDSSJ1204+0358',\n",
    " 'SDSSJ1250+0523',\n",
    " 'SDSSJ1306+0600',\n",
    " 'SDSSJ1313+4615', \n",
    " 'SDSSJ1402+6321',\n",
    " 'SDSSJ1531-0105',\n",
    " 'SDSSJ1621+3931', \n",
    " 'SDSSJ1627-0053',\n",
    " 'SDSSJ1630+4520',\n",
    " 'SDSSJ1636+4707',\n",
    " 'SDSSJ2238-0754',\n",
    " 'SDSSJ2300+0022',\n",
    " 'SDSSJ2303+1422',\n",
    " 'SDSSJ2343-0030'\n",
    "]\n",
    "\n",
    "new_lens = sorted(set(SLACS_Lenses) - set(shajib_lenses))"
   ]
  },
  {
   "cell_type": "code",
   "execution_count": 9,
   "id": "b5ae86af",
   "metadata": {},
   "outputs": [],
   "source": [
    "\n",
    "for object_name in new_lens:\n",
    "    # Copy Settings\n",
    "    a_yaml_file = open(\"Sep1/{}_config.yml\".format(object_name))\n",
    "    settings = yaml.load(a_yaml_file, yaml.FullLoader)\n",
    "    \n",
    "    del settings['source_light_option']['fix']\n",
    "    del settings['source_redshift']\n",
    "    \n",
    "    settings['fitting']['mcmc_settings']['iteration_step'] = 3000  \n",
    "\n",
    "    noalias_dumper = yaml.dumper.SafeDumper  #Remove yaml alias\n",
    "    noalias_dumper.ignore_aliases = lambda self, data: True\n",
    "    with open(\"{}_config.yml\".format(object_name), 'w') as file: #Write settings file\n",
    "        yaml.dump(settings, file, Dumper=noalias_dumper)    \n",
    "\n"
   ]
  },
  {
   "cell_type": "code",
   "execution_count": null,
   "id": "39301a1c",
   "metadata": {},
   "outputs": [],
   "source": []
  }
 ],
 "metadata": {
  "kernelspec": {
   "display_name": "Python 3 (ipykernel)",
   "language": "python",
   "name": "python3"
  },
  "language_info": {
   "codemirror_mode": {
    "name": "ipython",
    "version": 3
   },
   "file_extension": ".py",
   "mimetype": "text/x-python",
   "name": "python",
   "nbconvert_exporter": "python",
   "pygments_lexer": "ipython3",
   "version": "3.7.11"
  }
 },
 "nbformat": 4,
 "nbformat_minor": 5
}
