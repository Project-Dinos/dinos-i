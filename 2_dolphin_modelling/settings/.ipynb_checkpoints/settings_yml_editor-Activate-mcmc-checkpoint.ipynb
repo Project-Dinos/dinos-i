{
 "cells": [
  {
   "cell_type": "code",
   "execution_count": 1,
   "id": "7adca901",
   "metadata": {},
   "outputs": [],
   "source": [
    "import yaml\n",
    "import h5py\n",
    "import numpy as np\n",
    "import copy\n",
    "from dolphin.analysis.output import Output\n",
    "\n",
    "output = Output('../')"
   ]
  },
  {
   "cell_type": "code",
   "execution_count": 2,
   "id": "2c6c63aa",
   "metadata": {},
   "outputs": [],
   "source": [
    "\n",
    "lens_list =    [  \"SDSSJ0330-0020\", \"SDSSJ0728+3835\", ]\n",
    "            #   \"SDSSJ0737+3216\", \"SDSSJ0903+4116\", \"SDSSJ0959+0410\", \"SDSSJ1112+0826\", \"SDSSJ1204+0358\", \n",
    "            #   \"SDSSJ1250+0523\", \"SDSSJ1306+0600\", \"SDSSJ1313+4615\", \"SDSSJ1402+6321\", \"SDSSJ1531-0105\",\n",
    "            #   \"SDSSJ1621+3931\", \"SDSSJ1627-0053\", \"SDSSJ1630+4520\", \"SDSSJ1636+4707\", \"SDSSJ2238-0754\", \n",
    "            #   \"SDSSJ2300+0022\", \"SDSSJ2303+1422\", \"SDSSJ2343-0030\", ]  \n",
    "\n",
    "#\"SDSSJ0029-0055\", \"SDSSJ0037-0942\",\"SDSSJ0252+0039\"\n"
   ]
  },
  {
   "cell_type": "code",
   "execution_count": 9,
   "id": "d485fdbf",
   "metadata": {},
   "outputs": [
    {
     "name": "stdout",
     "output_type": "stream",
     "text": [
      "SDSSJ0252+0039\n",
      "{'centroid_init': [0.0, 0.0], 'gaussian_prior': {0: ['gamma', 2.11, 0.03]}}\n",
      "SDSSJ0330-0020\n",
      "{'centroid_init': [0.0, 0.0], 'gaussian_prior': {0: ['gamma', 2.11, 0.03]}}\n",
      "SDSSJ0728+3835\n",
      "{'centroid_init': [0.0, 0.0], 'gaussian_prior': {0: ['gamma', 2.11, 0.03]}}\n",
      "SDSSJ0737+3216\n",
      "{'centroid_init': [0.0, 0.0], 'gaussian_prior': {0: ['gamma', 2.11, 0.03]}}\n",
      "SDSSJ0903+4116\n",
      "{'centroid_init': [0.0, 0.0], 'gaussian_prior': {0: ['gamma', 2.11, 0.03]}}\n",
      "SDSSJ0959+0410\n",
      "{'centroid_init': [0.0, 0.0], 'gaussian_prior': {0: ['gamma', 2.11, 0.03]}}\n",
      "SDSSJ1112+0826\n",
      "{'centroid_init': [0.0, 0.0], 'gaussian_prior': {0: ['gamma', 2.11, 0.03]}}\n",
      "SDSSJ1204+0358\n",
      "{'centroid_init': [0.0, 0.0], 'gaussian_prior': {0: ['gamma', 2.11, 0.03]}}\n",
      "SDSSJ1250+0523\n",
      "{'centroid_init': [0.0, 0.0], 'gaussian_prior': {0: ['gamma', 2.11, 0.03]}}\n",
      "SDSSJ1306+0600\n",
      "{'centroid_init': [0.0, 0.0], 'gaussian_prior': {0: ['gamma', 2.11, 0.03]}}\n",
      "SDSSJ1313+4615\n",
      "{'centroid_init': [0.0, 0.0], 'gaussian_prior': {0: ['gamma', 2.11, 0.03]}}\n",
      "SDSSJ1402+6321\n",
      "{'centroid_init': [0.0, 0.0], 'gaussian_prior': {0: ['gamma', 2.11, 0.03]}}\n",
      "SDSSJ1531-0105\n",
      "{'centroid_init': [0.0, 0.0], 'gaussian_prior': {0: ['gamma', 2.11, 0.03]}}\n",
      "SDSSJ1621+3931\n",
      "{'centroid_init': [0.0, 0.0], 'gaussian_prior': {0: ['gamma', 2.11, 0.03]}}\n",
      "SDSSJ1627-0053\n",
      "{'centroid_init': [0.0, 0.0], 'gaussian_prior': {0: ['gamma', 2.11, 0.03]}}\n",
      "SDSSJ1630+4520\n",
      "{'centroid_init': [0.0, 0.0], 'gaussian_prior': {0: ['gamma', 2.11, 0.03]}}\n",
      "SDSSJ1636+4707\n",
      "{'centroid_init': [0.0, 0.0], 'gaussian_prior': {0: ['gamma', 2.11, 0.03]}}\n",
      "SDSSJ2238-0754\n",
      "{'centroid_init': [0.0, 0.0], 'gaussian_prior': {0: ['gamma', 2.11, 0.03]}}\n",
      "SDSSJ2300+0022\n",
      "{'centroid_init': [0.0, 0.0], 'gaussian_prior': {0: ['gamma', 2.11, 0.03]}}\n",
      "SDSSJ2303+1422\n",
      "{'centroid_init': [0.0, 0.0], 'gaussian_prior': {0: ['gamma', 2.11, 0.03]}}\n",
      "SDSSJ2343-0030\n",
      "{'centroid_init': [0.0, 0.0], 'gaussian_prior': {0: ['gamma', 2.11, 0.03]}}\n"
     ]
    }
   ],
   "source": [
    "\n",
    "for object_name in lens_list:\n",
    "    \n",
    "    print(object_name)\n",
    "    \n",
    "    # Copy Settings\n",
    "    a_yaml_file = open(\"Run0/{}_config.yml\".format(object_name))\n",
    "    settings = yaml.load(a_yaml_file, yaml.FullLoader)\n",
    "    \n",
    "    #Turn of PSO\n",
    "    #settings['fitting']['sampling'] = True    \n",
    "    #settings['fitting']['mcmc_settings']['iteration_step'] = 1000  \n",
    "    \n",
    "    \n",
    "    # Include gamma prior\n",
    "    settings['lens_option']['gaussian_prior'] = {0: ['gamma',2.11,0.03]}\n",
    "    print(settings['lens_option'])\n",
    "  #  settings['lens_option']['gaussian_prior'] = {}\n",
    "  #  settings['lens_option']['gaussian_prior'] = {{0: ['gamma',2.11,0.03]}}\n",
    "    \n",
    "\n",
    " #   noalias_dumper = yaml.dumper.SafeDumper  #Remove yaml alias\n",
    " #   noalias_dumper.ignore_aliases = lambda self, data: True\n",
    " #   with open(\"{}_config.yml\".format(object_name), 'w') as file: #Write settings file\n",
    " #       yaml.dump(settings, file, Dumper=noalias_dumper)    \n"
   ]
  },
  {
   "cell_type": "code",
   "execution_count": null,
   "id": "57455c3c",
   "metadata": {},
   "outputs": [],
   "source": []
  }
 ],
 "metadata": {
  "kernelspec": {
   "display_name": "Python 3 (ipykernel)",
   "language": "python",
   "name": "python3"
  },
  "language_info": {
   "codemirror_mode": {
    "name": "ipython",
    "version": 3
   },
   "file_extension": ".py",
   "mimetype": "text/x-python",
   "name": "python",
   "nbconvert_exporter": "python",
   "pygments_lexer": "ipython3",
   "version": "3.7.11"
  }
 },
 "nbformat": 4,
 "nbformat_minor": 5
}
