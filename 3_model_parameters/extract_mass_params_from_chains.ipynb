{
 "cells": [
  {
   "cell_type": "code",
   "execution_count": 1,
   "id": "9cc93797",
   "metadata": {},
   "outputs": [],
   "source": [
    "import yaml\n",
    "import pandas as pd\n",
    "import matplotlib.pyplot as plt\n",
    "#lens_yaml = open(\"../../SLACS_directory/settings/Shajib2020_Lens.yml\")\n",
    "#lenses_yaml = yaml.load(lens_yaml, yaml.FullLoader)\n",
    "from dolphin.analysis.output import Output\n",
    "from lenstronomy.Util.param_util import ellipticity2phi_q\n",
    "import numpy as np\n",
    "import h5py\n"
   ]
  },
  {
   "cell_type": "code",
   "execution_count": 2,
   "id": "8bbc48ed",
   "metadata": {},
   "outputs": [],
   "source": [
    "def stats_giver(chain):\n",
    "    mean = np.median(chain)\n",
    "    d1 = np.percentile(chain, 50.) - np.percentile(chain, 16.)\n",
    "    d2 = np.percentile(chain, 84.) - np.percentile(chain, 50.)\n",
    "    return mean, d1, d2\n",
    "\n",
    "def angle_squeezer(x):\n",
    "    if x<-90:\n",
    "        return 180+x\n",
    "    elif x>90:\n",
    "        return x-180\n",
    "    else:\n",
    "        return x\n",
    "\n",
    "#def ext_corrector(x):\n",
    "#    if x>90:\n",
    "#        return x-180\n",
    "#    else:\n",
    "#        return x    \n",
    "    \n",
    "    \n",
    "def branch_corrector(x): #Correct for when the points are at -90,90 branch cuts\n",
    "    if x<0:\n",
    "        return x+180\n",
    "    else:\n",
    "        return x\n",
    "        \n",
    "def angle_stats_giver(chain):\n",
    "    chain_corr = [angle_squeezer(x) for x in chain]\n",
    "    chain_branch = [branch_corrector(x) for x in chain_corr ]    \n",
    "    a1,a2,a3 = stats_giver(chain_corr) \n",
    "    b1,b2,b3 = stats_giver(chain_branch) \n",
    "    if (abs(a2)+abs(a3)) < (abs(b2)+abs(b3)):\n",
    "        return a1,a2,a3\n",
    "    else:  \n",
    "        return angle_squeezer(b1),b2,b3        \n",
    "\n",
    "\n"
   ]
  },
  {
   "cell_type": "code",
   "execution_count": 3,
   "id": "db546695",
   "metadata": {},
   "outputs": [],
   "source": [
    "def ingestor(obj):\n",
    "    data_dict = {\"Lens_name\":obj}\n",
    "    chain = output.get_reshaped_emcee_chain(obj, \"dinos-i\" ,16)\n",
    "    params_mcmc = output.params_mcmc\n",
    "    \n",
    "    psiM_chain, qM_chain = ellipticity2phi_q(chain[:, -1, params_mcmc.index('e1_lens0')],chain[:, -1, params_mcmc.index('e2_lens0')]) \n",
    "    psiL_chain, qL_chain = ellipticity2phi_q(chain[:, -1, params_mcmc.index('e1_lens_light0')],chain[:, -1, params_mcmc.index('e2_lens_light0')]) \n",
    "\n",
    "    #Convert angles:\n",
    "    psi_ext_chain = chain[:, -1, params_mcmc.index('psi_ext_lens1')]*180/np.pi\n",
    "    psiM_chain = psiM_chain *180/np.pi\n",
    "    psiL_chain = psiL_chain *180/np.pi\n",
    "    \n",
    "    data_dict['R_Ein'], data_dict['R_Ein_e1'], data_dict['R_Ein_e2']   = stats_giver(chain[:, -1, params_mcmc.index('theta_E_lens0')])\n",
    "    data_dict['γ'], data_dict['γ_e1'], data_dict['γ_e2']               = stats_giver(chain[:, -1, params_mcmc.index('gamma_lens0')])\n",
    "    data_dict['PA ext'], data_dict['PA ext_e1'],data_dict['PA ext_e2'] = angle_stats_giver(psi_ext_chain)\n",
    "    data_dict['γ ext'], data_dict['γ ext_e1'], data_dict['γ ext_e2']   = stats_giver(chain[:, -1, params_mcmc.index('gamma_ext_lens1')])\n",
    "    data_dict['PA m'], data_dict['PA m_e1'], data_dict['PA m_e2']      = angle_stats_giver(psiM_chain)\n",
    "    data_dict['qm'],data_dict['qm_e1'],data_dict['qm_e2']              = stats_giver(qM_chain)\n",
    "    data_dict['e1 m'], data_dict['e1 m_e1'],data_dict['e1 m_e2']       = stats_giver(chain[:, -1, params_mcmc.index('e1_lens0')])\n",
    "    data_dict['e2 m'], data_dict['e2 m_e1'],data_dict['e2 m_e2']       = stats_giver(chain[:, -1, params_mcmc.index('e2_lens0')])\n",
    "    data_dict['PA L'],data_dict['PA L_e1'],data_dict['PA L_e2']        = angle_stats_giver(psiL_chain)\n",
    "    data_dict['qL'], data_dict['qL_e1'],data_dict['qL_e2']             = stats_giver(qL_chain)\n",
    "    data_dict['e1 L'], data_dict['e1 L_e1'],data_dict['e1 L_e2']       = stats_giver(chain[:, -1, params_mcmc.index('e1_lens_light0')])\n",
    "    data_dict['e2 L'], data_dict['e2 L_e1'],data_dict['e2 L_e2']       = stats_giver(chain[:, -1, params_mcmc.index('e2_lens_light0')])    \n",
    "        \n",
    "    return data_dict"
   ]
  },
  {
   "cell_type": "code",
   "execution_count": 5,
   "id": "078ed18b",
   "metadata": {
    "scrolled": true
   },
   "outputs": [
    {
     "data": {
      "text/plain": [
       "{'Lens_name': 'SL2SJ1359+5535',\n",
       " 'R_Ein': 1.1065253826023058,\n",
       " 'R_Ein_e1': 0.013208843065832365,\n",
       " 'R_Ein_e2': 0.013524900263527373,\n",
       " 'γ': 1.9510064727008452,\n",
       " 'γ_e1': 0.15528847954890534,\n",
       " 'γ_e2': 0.15205686446069722,\n",
       " 'PA ext': -82.07156912917989,\n",
       " 'PA ext_e1': 45.45000696101083,\n",
       " 'PA ext_e2': 36.66857902986047,\n",
       " 'γ ext': 0.003725562826294616,\n",
       " 'γ ext_e1': 0.002344522130953911,\n",
       " 'γ ext_e2': 0.004197204690525223,\n",
       " 'PA m': 34.73079706470444,\n",
       " 'PA m_e1': 0.9696183799718696,\n",
       " 'PA m_e2': 1.2522436733284295,\n",
       " 'qm': 0.6851752529809387,\n",
       " 'qm_e1': 0.12139106451175807,\n",
       " 'qm_e2': 0.07925493615024126,\n",
       " 'e1 m': 0.06614221220376762,\n",
       " 'e1 m_e1': 0.02022658083536187,\n",
       " 'e1 m_e2': 0.02862538523280317,\n",
       " 'e2 m': 0.17398968928746106,\n",
       " 'e2 m_e1': 0.04933583754219008,\n",
       " 'e2 m_e2': 0.08735881783736849,\n",
       " 'PA L': 46.22324218918226,\n",
       " 'PA L_e1': 4.359839425896745,\n",
       " 'PA L_e2': 2.925843795287463,\n",
       " 'qL': 0.6797251416657444,\n",
       " 'qL_e1': 0.08421181314428228,\n",
       " 'qL_e2': 0.07529182745064333,\n",
       " 'e1 L': -0.0071621855993617995,\n",
       " 'e1 L_e1': 0.02296448226100494,\n",
       " 'e1 L_e2': 0.02619902817971753,\n",
       " 'e2 L': 0.18953325219696815,\n",
       " 'e2 L_e1': 0.051215351830879,\n",
       " 'e2 L_e2': 0.06372713272089714}"
      ]
     },
     "execution_count": 5,
     "metadata": {},
     "output_type": "execute_result"
    }
   ],
   "source": [
    "output = Output('../2_dolphin_modelling')\n",
    "ingestor('SL2SJ1359+5535')"
   ]
  },
  {
   "cell_type": "code",
   "execution_count": null,
   "id": "f52a7173",
   "metadata": {},
   "outputs": [],
   "source": []
  }
 ],
 "metadata": {
  "kernelspec": {
   "display_name": "Python 3",
   "language": "python",
   "name": "python3"
  },
  "language_info": {
   "codemirror_mode": {
    "name": "ipython",
    "version": 3
   },
   "file_extension": ".py",
   "mimetype": "text/x-python",
   "name": "python",
   "nbconvert_exporter": "python",
   "pygments_lexer": "ipython3",
   "version": "3.6.12"
  }
 },
 "nbformat": 4,
 "nbformat_minor": 5
}
