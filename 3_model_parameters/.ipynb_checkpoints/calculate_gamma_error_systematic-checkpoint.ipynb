{
 "cells": [
  {
   "cell_type": "code",
   "execution_count": 1,
   "id": "e07b4e2c",
   "metadata": {
    "ExecuteTime": {
     "end_time": "2023-11-13T22:13:53.351996Z",
     "start_time": "2023-11-13T22:13:52.750075Z"
    }
   },
   "outputs": [],
   "source": [
    "import glob\n",
    "import pickle\n",
    "import pandas as pd\n",
    "import matplotlib.pyplot as plt\n",
    "import numpy as np\n",
    "import pandas\n",
    "import scipy.stats\n",
    "from lenstronomy.Data.coord_transforms import Coordinates\n",
    "from photutils.segmentation import detect_sources\n",
    "from scipy.optimize import minimize\n",
    "from dolphin.processor.config import ModelConfig"
   ]
  },
  {
   "cell_type": "markdown",
   "id": "a6639870",
   "metadata": {},
   "source": [
    "# Create lens light subtracted image data"
   ]
  },
  {
   "cell_type": "code",
   "execution_count": 2,
   "id": "02dcc82d",
   "metadata": {},
   "outputs": [],
   "source": [
    "from dolphin.analysis.output import Output\n",
    "output = Output('../2_dolphin_modelling/')"
   ]
  },
  {
   "cell_type": "code",
   "execution_count": 3,
   "id": "f016d2e8",
   "metadata": {},
   "outputs": [
    {
     "name": "stdout",
     "output_type": "stream",
     "text": [
      "-0.79466809872013 reduced X^2 of all evaluated imaging data combined (without degrees of freedom subtracted).\n",
      "reduced chi^2 of data  0 =  0.7946680987201334\n"
     ]
    },
    {
     "name": "stderr",
     "output_type": "stream",
     "text": [
      "/Users/chinyi/anaconda3/envs/astroconda/lib/python3.6/site-packages/lenstronomy/Plots/model_band_plot.py:63: RuntimeWarning: divide by zero encountered in log10\n",
      "  log_model = np.log10(model)\n",
      "/Users/chinyi/anaconda3/envs/astroconda/lib/python3.6/site-packages/lenstronomy/Plots/model_band_plot.py:63: RuntimeWarning: invalid value encountered in log10\n",
      "  log_model = np.log10(model)\n",
      "/Users/chinyi/anaconda3/envs/astroconda/lib/python3.6/site-packages/lenstronomy/Plots/plot_util.py:367: MatplotlibDeprecationWarning: You are modifying the state of a globally registered colormap. In future versions, you will not be able to modify a registered colormap in-place. To remove this warning, you can make a copy of the colormap first. cmap = copy.copy(mpl.cm.get_cmap(\"cubehelix\"))\n",
      "  cmap_new.set_bad(color=\"k\", alpha=1.0)\n",
      "/Users/chinyi/anaconda3/envs/astroconda/lib/python3.6/site-packages/lenstronomy/Plots/plot_util.py:368: MatplotlibDeprecationWarning: You are modifying the state of a globally registered colormap. In future versions, you will not be able to modify a registered colormap in-place. To remove this warning, you can make a copy of the colormap first. cmap = copy.copy(mpl.cm.get_cmap(\"cubehelix\"))\n",
      "  cmap_new.set_under(\"k\")\n",
      "/Users/chinyi/anaconda3/envs/astroconda/lib/python3.6/site-packages/lenstronomy/Plots/model_band_plot.py:1117: RuntimeWarning: invalid value encountered in log10\n",
      "  np.log10(self._data - model),\n"
     ]
    },
    {
     "data": {
      "image/png": "[encoded data removed]",
      "text/plain": [
       "<Figure size 432x288 with 2 Axes>"
      ]
     },
     "metadata": {
      "needs_background": "light"
     },
     "output_type": "display_data"
    }
   ],
   "source": [
    "lens = 'SL2SJ1359+5535'\n",
    "v_band_index, v_band = 0, 'F606W'\n",
    "df = output.get_kwargs_data_joint(lens)['multi_band_list']\n",
    "df_sel = df[v_band_index]\n",
    "image_array, back_rms = output.get_subtracted_image(lens_name=lens,model_id=\"dinos_i\", band_index=v_band_index)\n",
    "df_sel[0]['lens_light_subtracted_image_data'] = image_array\n",
    "df_sel.append({})\n",
    "\n",
    "config = ModelConfig(\"../2_dolphin_modelling//settings/{}_config.yml\".format(lens))\n",
    "df_sel[3]['mask'] = (config.get_masks()[v_band_index])\n",
    "df_sel[3]['band'] = output.load_output(lens,'dinos_i')['settings']['band']\n",
    "df_sel[3]['kwargs_result'] = output.load_output(lens,'dinos_i')['kwargs_result']\n",
    "\n",
    "#np.save('h5_/image_{}_{}.'.format(lens, v_band),df_sel)\n",
    "\n"
   ]
  },
  {
   "cell_type": "markdown",
   "id": "bea82894",
   "metadata": {},
   "source": [
    "# load the output files"
   ]
  },
  {
   "cell_type": "code",
   "execution_count": 4,
   "id": "3ea6c152",
   "metadata": {},
   "outputs": [],
   "source": [
    "files_all_dinos = sorted(glob.glob(\"pkl_files/*.npy\"))\n",
    "names_all_dinos = [x[16:30] for x in files_all_dinos]\n",
    "\n",
    "df_table = pandas.read_csv(\"Data/lit_gamma.csv\")\n",
    "slacs_mask = np.in1d(names_all_dinos, df_table[df_table['compare']==True]['Lens Name'])\n",
    "\n",
    "\n",
    "files = np.array(files_all_dinos)[slacs_mask]\n"
   ]
  },
  {
   "cell_type": "code",
   "execution_count": 5,
   "id": "33a3100d",
   "metadata": {
    "ExecuteTime": {
     "end_time": "2023-11-13T22:13:53.670378Z",
     "start_time": "2023-11-13T22:13:53.661094Z"
    }
   },
   "outputs": [],
   "source": [
    "def get_signal_to_noises(a=1, b=1, files=files, verbose=False):\n",
    "    \"\"\"\n",
    "    Compute signal to noise ratios for all images.\n",
    "    :param a: weight for radial distance\n",
    "    :type a: float\n",
    "    :param b: weight for angular stretch\n",
    "    :type b: float\n",
    "    :param files: list of files\n",
    "    :type files: list\n",
    "    :param verbose: for plotting\n",
    "    :type verbose: bool\n",
    "    :return: names, weighted_sns, unweighted_sns\n",
    "    :rtype: np.array, np.array, np.array\n",
    "    \"\"\"\n",
    "    names = []\n",
    "    weighted_sns = []\n",
    "    unweighted_sns = []\n",
    "\n",
    "    for i, file in enumerate(files):\n",
    "        with open(file, \"rb\") as f:\n",
    "            data = np.load(f, allow_pickle=True)\n",
    "\n",
    "            kwargs_data = data[0]\n",
    "            image = kwargs_data[\"image_data\"]\n",
    "            background_rms = kwargs_data[\"background_rms\"]\n",
    "            lens_light_subtracted_image = data[0][\"lens_light_subtracted_image_data\"]\n",
    "            noise = image.copy()\n",
    "            noise[noise < 0.0] = 1e-10\n",
    "            noise = np.sqrt(\n",
    "                noise / kwargs_data[\"exposure_time\"]\n",
    "                + kwargs_data[\"background_rms\"] ** 2\n",
    "            )\n",
    "\n",
    "            kwargs_result = data[3][\"kwargs_result\"]\n",
    "            mask = data[3][\"mask\"]\n",
    "\n",
    "            theta_E = kwargs_result[\"kwargs_lens\"][0][\"theta_E\"]\n",
    "\n",
    "            ra_at_xy_0 = kwargs_data[\"ra_at_xy_0\"]\n",
    "            dec_at_xy_0 = kwargs_data[\"dec_at_xy_0\"]\n",
    "\n",
    "            ra_offset = kwargs_data[\"ra_shift\"]\n",
    "            dec_offset = kwargs_data[\"dec_shift\"]\n",
    "\n",
    "            transform_pix2angle = kwargs_data[\"transform_pix2angle\"]\n",
    "            coords = Coordinates(transform_pix2angle, ra_at_xy_0, dec_at_xy_0)\n",
    "\n",
    "            center_x = kwargs_result[\"kwargs_lens\"][0][\"center_x\"] - ra_offset\n",
    "            center_y = kwargs_result[\"kwargs_lens\"][0][\"center_y\"] - dec_offset\n",
    "\n",
    "            x0, y0 = coords.map_coord2pix(center_x, center_y)\n",
    "\n",
    "            xs, ys = np.meshgrid(np.arange(image.shape[0]), np.arange(image.shape[1]))\n",
    "\n",
    "            x_coords, y_coords = coords.map_pix2coord(xs.flatten(), ys.flatten())\n",
    "            x_coords = x_coords.reshape(xs.shape)\n",
    "            y_coords = y_coords.reshape(ys.shape)\n",
    "\n",
    "            r = np.sqrt((x_coords - center_x) ** 2 + (y_coords - center_y) ** 2)\n",
    "\n",
    "            radial_weight = np.abs(r - theta_E) / theta_E\n",
    "\n",
    "            threshold = 3.0\n",
    "            sn_masked = np.abs(lens_light_subtracted_image / noise)\n",
    "            sn_masked[lens_light_subtracted_image < threshold * background_rms] = 0.0\n",
    "            sn_masked *= mask\n",
    "\n",
    "            max_pixel = np.argwhere(sn_masked == sn_masked.max())[0]\n",
    "            max_ra, max_dec = coords.map_pix2coord(max_pixel[1], max_pixel[0])\n",
    "            max_ra -= center_x\n",
    "            max_dec -= center_y\n",
    "            delta_pa = np.arctan((y_coords - center_y) / (x_coords - center_x))\n",
    "\n",
    "            delta_pa -= np.arctan(max_dec / max_ra)\n",
    "            delta_pa = delta_pa % (np.pi)\n",
    "            delta_pa[delta_pa > np.pi / 2] = np.pi - delta_pa[delta_pa > np.pi / 2]\n",
    "\n",
    "            angular_weight = delta_pa * 2.0 / np.pi\n",
    "\n",
    "            weight = 1.0 + a * radial_weight * (1.0 + b * angular_weight)\n",
    "\n",
    "            weighted_signal = lens_light_subtracted_image * weight\n",
    "            weighted_signal[\n",
    "                lens_light_subtracted_image < threshold * background_rms\n",
    "            ] = 0.0\n",
    "            weighted_signal *= mask\n",
    "\n",
    "            segmentation_mask = detect_sources(\n",
    "                weighted_signal / noise, 0, npixels=5\n",
    "            ).data\n",
    "            segmentation_mask[segmentation_mask > 0] = 1.0\n",
    "            weighted_signal *= segmentation_mask\n",
    "\n",
    "            weighted_sn = weighted_signal / noise\n",
    "\n",
    "            final_mask = np.zeros_like(weighted_signal)\n",
    "            final_mask[weighted_signal > 0.0] = 1.0\n",
    "\n",
    "            names.append(file[16:30])\n",
    "            weighted_sns.append(\n",
    "                np.sum(weighted_signal) / np.sqrt(np.sum(noise**2 * final_mask))\n",
    "            )\n",
    "            unweighted_sns.append(\n",
    "                np.sum(lens_light_subtracted_image * final_mask)\n",
    "                / np.sqrt(np.sum(noise**2 * final_mask))\n",
    "            )\n",
    "\n",
    "            if verbose and i == 1:\n",
    "                plt.matshow(\n",
    "                    weighted_sn,\n",
    "                    origin=\"lower\",\n",
    "                )\n",
    "                plt.plot(x0, y0, \"rx\")\n",
    "                plt.title(f\"{names[-1][4:9]}, total wtd S/N: {weighted_sns[-1]:.1f}\")\n",
    "                plt.colorbar(label=\"weighted S/N\")\n",
    "                plt.show()\n",
    "\n",
    "    return np.array(names), np.array(weighted_sns), np.array(unweighted_sns)"
   ]
  },
  {
   "cell_type": "code",
   "execution_count": 6,
   "id": "29518f76",
   "metadata": {
    "ExecuteTime": {
     "end_time": "2023-11-13T22:13:54.266196Z",
     "start_time": "2023-11-13T22:13:53.980354Z"
    }
   },
   "outputs": [
    {
     "data": {
      "image/png": "[encoded data removed]",
      "text/plain": [
       "<Figure size 288x288 with 2 Axes>"
      ]
     },
     "metadata": {
      "needs_background": "light"
     },
     "output_type": "display_data"
    }
   ],
   "source": [
    "# example\n",
    "(\n",
    "    names_all_dinos,\n",
    "    weighted_sns_all_dinos,\n",
    "    unweighted_sns_all_dinos,\n",
    ") = get_signal_to_noises(a=1, b=1, files=files_all_dinos, verbose=True)"
   ]
  },
  {
   "cell_type": "markdown",
   "id": "3cf7cf74",
   "metadata": {},
   "source": [
    "# correlation between S/N and gamma_err"
   ]
  },
  {
   "cell_type": "code",
   "execution_count": 7,
   "id": "aa444ea8",
   "metadata": {
    "ExecuteTime": {
     "end_time": "2023-11-13T22:14:05.203695Z",
     "start_time": "2023-11-13T22:14:05.200477Z"
    }
   },
   "outputs": [],
   "source": [
    "def get_pearson_r(params):\n",
    "    \"\"\"\n",
    "\n",
    "    :param a:\n",
    "    :type a:\n",
    "    :param b:\n",
    "    :type b:\n",
    "    :return:\n",
    "    :rtype:\n",
    "    \"\"\"\n",
    "    a, b = params\n",
    "    _, weighted_sns, unweighted_sns = get_signal_to_noises(\n",
    "        a, b, files=files_all_dinos, verbose=False\n",
    "    )\n",
    "\n",
    "    return scipy.stats.pearsonr(np.log(weighted_sns), np.log(gamma_errs_all_dinos))[0]"
   ]
  },
  {
   "cell_type": "code",
   "execution_count": 8,
   "id": "8ecf8d3b",
   "metadata": {
    "ExecuteTime": {
     "end_time": "2023-11-13T22:14:16.121398Z",
     "start_time": "2023-11-13T22:14:11.658437Z"
    }
   },
   "outputs": [
    {
     "data": {
      "text/plain": [
       "(      fun: -0.7060153032948666\n",
       "  hess_inv: <2x2 LbfgsInvHessProduct with dtype=float64>\n",
       "       jac: array([-4.29656275e-06, -6.55031585e-06])\n",
       "   message: b'CONVERGENCE: NORM_OF_PROJECTED_GRADIENT_<=_PGTOL'\n",
       "      nfev: 39\n",
       "       nit: 12\n",
       "      njev: 13\n",
       "    status: 0\n",
       "   success: True\n",
       "         x: array([15.55382542,  0.07077   ]),\n",
       " -0.7060153032948666)"
      ]
     },
     "execution_count": 8,
     "metadata": {},
     "output_type": "execute_result"
    }
   ],
   "source": [
    "df_all = pandas.read_csv(\"Data/lit_gamma.csv\")[:77]\n",
    "names_all_dinos = [x[16:30] for x in files_all_dinos]\n",
    "\n",
    "gammas_all_dinos = []\n",
    "gamma_errs_all_dinos = []\n",
    "\n",
    "for name in names_all_dinos:\n",
    "    gammas_all_dinos.append(df_all[df_all[\"Lens Name\"] == name][\"γ\"].values[0])\n",
    "    gamma_errs_all_dinos.append(df_all[df_all[\"Lens Name\"] == name][\"γ err\"].values[0])\n",
    "\n",
    "\n",
    "res = minimize(\n",
    "    get_pearson_r,\n",
    "    x0=np.array([1.0, 1]),\n",
    "    bounds=[(-100, 100), (-100, 100)],\n",
    "    # method=\"Nelder-Mead\"\n",
    ")\n",
    "\n",
    "res, get_pearson_r(res.x)"
   ]
  },
  {
   "cell_type": "markdown",
   "id": "abdf23a6",
   "metadata": {},
   "source": [
    "Taking a = 15, b = 0."
   ]
  },
  {
   "cell_type": "markdown",
   "id": "e793cbe1",
   "metadata": {},
   "source": [
    "## loading values from other lens outputs for comparison"
   ]
  },
  {
   "cell_type": "code",
   "execution_count": 9,
   "id": "f3dceadd",
   "metadata": {
    "ExecuteTime": {
     "end_time": "2023-10-14T22:00:21.549866Z",
     "start_time": "2023-10-14T22:00:21.437325Z"
    }
   },
   "outputs": [],
   "source": [
    "# recompute weighted SNs with optimized weights\n",
    "(\n",
    "    names_all_dinos,\n",
    "    weighted_sns_all_dinos,\n",
    "    unweighted_sns_all_dinos,\n",
    ") = get_signal_to_noises(a=15, b=0, files=files_all_dinos, verbose=False)"
   ]
  },
  {
   "cell_type": "code",
   "execution_count": 10,
   "id": "dce27b1f",
   "metadata": {
    "ExecuteTime": {
     "end_time": "2023-10-14T22:00:21.608638Z",
     "start_time": "2023-10-14T22:00:21.550523Z"
    }
   },
   "outputs": [],
   "source": [
    "names, weighted_sns, unweighted_sns = get_signal_to_noises(a=15, b=0, verbose=False)"
   ]
  },
  {
   "cell_type": "code",
   "execution_count": 11,
   "id": "c26704b9",
   "metadata": {
    "ExecuteTime": {
     "end_time": "2023-10-14T22:00:21.614490Z",
     "start_time": "2023-10-14T22:00:21.609019Z"
    }
   },
   "outputs": [],
   "source": [
    "df = pandas.read_csv(\"Data/lit_gamma.csv\")\n",
    "df = df[df['compare']==True]"
   ]
  },
  {
   "cell_type": "code",
   "execution_count": 12,
   "id": "50b896bd",
   "metadata": {
    "ExecuteTime": {
     "end_time": "2023-10-14T22:00:21.681960Z",
     "start_time": "2023-10-14T22:00:21.648282Z"
    }
   },
   "outputs": [],
   "source": [
    "# match lens_name and extract gamma\n",
    "gammas_tan = []\n",
    "gamma_errs_tan = []\n",
    "gammas_eth = []\n",
    "gamma_errs_eth = []\n",
    "\n",
    "for name in names:\n",
    "    gammas_tan.append(df[df[\"Lens Name\"] == name][\"γ\"].values[0])\n",
    "    gamma_errs_tan.append(df[df[\"Lens Name\"] == name][\"γ err\"].values[0])\n",
    "\n",
    "    gammas_eth.append(df[df[\"Lens Name\"] == name][\"gamma_eth\"].values[0])\n",
    "    gamma_errs_eth.append(df[df[\"Lens Name\"] == name][\"gamma_err_eth\"].values[0])\n",
    "\n",
    "gammas_tan = np.array(gammas_tan)\n",
    "gamma_errs_tan = np.array(gamma_errs_tan)\n",
    "gammas_eth = np.array(gammas_eth)\n",
    "gamma_errs_eth = np.array(gamma_errs_eth)\n",
    "\n",
    "has_eth = np.logical_not(np.isnan(gamma_errs_eth))\n",
    "delta_gamma = gammas_tan[has_eth] - gammas_eth[has_eth]"
   ]
  },
  {
   "cell_type": "code",
   "execution_count": 13,
   "id": "87e8ad77",
   "metadata": {
    "ExecuteTime": {
     "end_time": "2023-10-14T22:00:21.372528Z",
     "start_time": "2023-10-14T22:00:21.307478Z"
    }
   },
   "outputs": [],
   "source": [
    "names, weighted_sns, unweighted_sns = get_signal_to_noises(\n",
    "    a=res.x[0], b=res.x[1], verbose=False\n",
    ")"
   ]
  },
  {
   "cell_type": "markdown",
   "id": "18ad25de",
   "metadata": {},
   "source": [
    "## Fit for systematic errors"
   ]
  },
  {
   "cell_type": "code",
   "execution_count": 14,
   "id": "b49d85a3",
   "metadata": {
    "ExecuteTime": {
     "end_time": "2023-10-14T22:00:22.015437Z",
     "start_time": "2023-10-14T22:00:22.011752Z"
    }
   },
   "outputs": [
    {
     "data": {
      "text/plain": [
       "(array([298.71422768]), 1.4858113550619834e-07)"
      ]
     },
     "execution_count": 14,
     "metadata": {},
     "output_type": "execute_result"
    }
   ],
   "source": [
    "max_err = 0.33\n",
    "\n",
    "\n",
    "def sys_err_model(errs, sns, a, s):\n",
    "    sys = s * np.tanh(a / sns)\n",
    "    # sys = max_err * (1 - 1 / (1. + np.exp(- (sns - s) / a)))\n",
    "    # sys = max_err / (1. + sns / a)\n",
    "    return np.sqrt(sys**2 + errs**2)\n",
    "\n",
    "\n",
    "def get_total_err(params):\n",
    "    a_tan = params\n",
    "    s = max_err\n",
    "    sys_tan = sys_err_model(gamma_errs_tan[has_eth], weighted_sns[has_eth], a_tan, s)\n",
    "    sys_eth = sys_err_model(gamma_errs_eth[has_eth], weighted_sns[has_eth], a_tan, s)\n",
    "\n",
    "    return np.sqrt(sys_tan**2 + sys_eth**2)\n",
    "\n",
    "\n",
    "def get_reduced_chi2_minus_1(params):\n",
    "    delta_gamma = gammas_tan[has_eth] - gammas_eth[has_eth]\n",
    "    delta_gamma_err = get_total_err(params)\n",
    "\n",
    "    return np.abs(np.sum((delta_gamma / delta_gamma_err) ** 2) / len(delta_gamma) - 1.0)\n",
    "\n",
    "\n",
    "res = minimize(\n",
    "    get_reduced_chi2_minus_1,\n",
    "    x0=np.array([900]),\n",
    "    bounds=[(0, 1000)],\n",
    "    method=\"Nelder-Mead\",\n",
    ")\n",
    "\n",
    "res.x, get_reduced_chi2_minus_1(res.x)"
   ]
  },
  {
   "cell_type": "code",
   "execution_count": 15,
   "id": "1a6a3fb2",
   "metadata": {
    "ExecuteTime": {
     "end_time": "2023-10-14T22:00:22.524669Z",
     "start_time": "2023-10-14T22:00:22.521453Z"
    }
   },
   "outputs": [
    {
     "data": {
      "text/html": [
       "<div>\n",
       "<style scoped>\n",
       "    .dataframe tbody tr th:only-of-type {\n",
       "        vertical-align: middle;\n",
       "    }\n",
       "\n",
       "    .dataframe tbody tr th {\n",
       "        vertical-align: top;\n",
       "    }\n",
       "\n",
       "    .dataframe thead th {\n",
       "        text-align: right;\n",
       "    }\n",
       "</style>\n",
       "<table border=\"1\" class=\"dataframe\">\n",
       "  <thead>\n",
       "    <tr style=\"text-align: right;\">\n",
       "      <th></th>\n",
       "      <th>Lens Name</th>\n",
       "      <th>γ</th>\n",
       "      <th>γ err</th>\n",
       "      <th>gamma_eth</th>\n",
       "      <th>gamma_err_eth</th>\n",
       "      <th>compare</th>\n",
       "      <th>gamma_systematic</th>\n",
       "    </tr>\n",
       "  </thead>\n",
       "  <tbody>\n",
       "    <tr>\n",
       "      <th>0</th>\n",
       "      <td>SDSSJ0008-0004</td>\n",
       "      <td>1.75</td>\n",
       "      <td>0.130</td>\n",
       "      <td>2.08</td>\n",
       "      <td>0.075</td>\n",
       "      <td>True</td>\n",
       "      <td>0.326797</td>\n",
       "    </tr>\n",
       "    <tr>\n",
       "      <th>1</th>\n",
       "      <td>SDSSJ0029-0055</td>\n",
       "      <td>2.69</td>\n",
       "      <td>0.045</td>\n",
       "      <td>2.32</td>\n",
       "      <td>0.130</td>\n",
       "      <td>True</td>\n",
       "      <td>0.250106</td>\n",
       "    </tr>\n",
       "    <tr>\n",
       "      <th>2</th>\n",
       "      <td>SDSSJ0037-0942</td>\n",
       "      <td>2.38</td>\n",
       "      <td>0.020</td>\n",
       "      <td>NaN</td>\n",
       "      <td>NaN</td>\n",
       "      <td>True</td>\n",
       "      <td>0.112860</td>\n",
       "    </tr>\n",
       "    <tr>\n",
       "      <th>3</th>\n",
       "      <td>SDSSJ0252+0039</td>\n",
       "      <td>1.55</td>\n",
       "      <td>0.035</td>\n",
       "      <td>1.92</td>\n",
       "      <td>0.095</td>\n",
       "      <td>True</td>\n",
       "      <td>0.127619</td>\n",
       "    </tr>\n",
       "    <tr>\n",
       "      <th>4</th>\n",
       "      <td>SDSSJ0330-0020</td>\n",
       "      <td>2.14</td>\n",
       "      <td>0.010</td>\n",
       "      <td>2.15</td>\n",
       "      <td>0.020</td>\n",
       "      <td>True</td>\n",
       "      <td>0.170657</td>\n",
       "    </tr>\n",
       "    <tr>\n",
       "      <th>...</th>\n",
       "      <td>...</td>\n",
       "      <td>...</td>\n",
       "      <td>...</td>\n",
       "      <td>...</td>\n",
       "      <td>...</td>\n",
       "      <td>...</td>\n",
       "      <td>...</td>\n",
       "    </tr>\n",
       "    <tr>\n",
       "      <th>72</th>\n",
       "      <td>SDSSJ1545+2748</td>\n",
       "      <td>1.94</td>\n",
       "      <td>0.025</td>\n",
       "      <td>NaN</td>\n",
       "      <td>NaN</td>\n",
       "      <td>False</td>\n",
       "      <td>0.240805</td>\n",
       "    </tr>\n",
       "    <tr>\n",
       "      <th>73</th>\n",
       "      <td>SDSSJ1601+2138</td>\n",
       "      <td>2.35</td>\n",
       "      <td>0.045</td>\n",
       "      <td>NaN</td>\n",
       "      <td>NaN</td>\n",
       "      <td>False</td>\n",
       "      <td>0.167881</td>\n",
       "    </tr>\n",
       "    <tr>\n",
       "      <th>74</th>\n",
       "      <td>SDSSJ1631+1854</td>\n",
       "      <td>2.07</td>\n",
       "      <td>0.020</td>\n",
       "      <td>NaN</td>\n",
       "      <td>NaN</td>\n",
       "      <td>False</td>\n",
       "      <td>0.289374</td>\n",
       "    </tr>\n",
       "    <tr>\n",
       "      <th>75</th>\n",
       "      <td>SDSSJ2125+0411</td>\n",
       "      <td>1.72</td>\n",
       "      <td>0.010</td>\n",
       "      <td>NaN</td>\n",
       "      <td>NaN</td>\n",
       "      <td>False</td>\n",
       "      <td>0.307635</td>\n",
       "    </tr>\n",
       "    <tr>\n",
       "      <th>76</th>\n",
       "      <td>SDSSJ2303+0037</td>\n",
       "      <td>2.39</td>\n",
       "      <td>0.235</td>\n",
       "      <td>NaN</td>\n",
       "      <td>NaN</td>\n",
       "      <td>False</td>\n",
       "      <td>0.329061</td>\n",
       "    </tr>\n",
       "  </tbody>\n",
       "</table>\n",
       "<p>77 rows × 7 columns</p>\n",
       "</div>"
      ],
      "text/plain": [
       "         Lens Name     γ  γ err  gamma_eth  gamma_err_eth  compare  \\\n",
       "0   SDSSJ0008-0004  1.75  0.130       2.08          0.075     True   \n",
       "1   SDSSJ0029-0055  2.69  0.045       2.32          0.130     True   \n",
       "2   SDSSJ0037-0942  2.38  0.020        NaN            NaN     True   \n",
       "3   SDSSJ0252+0039  1.55  0.035       1.92          0.095     True   \n",
       "4   SDSSJ0330-0020  2.14  0.010       2.15          0.020     True   \n",
       "..             ...   ...    ...        ...            ...      ...   \n",
       "72  SDSSJ1545+2748  1.94  0.025        NaN            NaN    False   \n",
       "73  SDSSJ1601+2138  2.35  0.045        NaN            NaN    False   \n",
       "74  SDSSJ1631+1854  2.07  0.020        NaN            NaN    False   \n",
       "75  SDSSJ2125+0411  1.72  0.010        NaN            NaN    False   \n",
       "76  SDSSJ2303+0037  2.39  0.235        NaN            NaN    False   \n",
       "\n",
       "    gamma_systematic  \n",
       "0           0.326797  \n",
       "1           0.250106  \n",
       "2           0.112860  \n",
       "3           0.127619  \n",
       "4           0.170657  \n",
       "..               ...  \n",
       "72          0.240805  \n",
       "73          0.167881  \n",
       "74          0.289374  \n",
       "75          0.307635  \n",
       "76          0.329061  \n",
       "\n",
       "[77 rows x 7 columns]"
      ]
     },
     "execution_count": 15,
     "metadata": {},
     "output_type": "execute_result"
    }
   ],
   "source": [
    "## save csv with updated errors\n",
    "\n",
    "df_all[\"gamma_systematic\"] = sys_err_model(0, weighted_sns_all_dinos, res.x[0], max_err)\n",
    "df_all"
   ]
  },
  {
   "cell_type": "code",
   "execution_count": null,
   "id": "32ea0cb3",
   "metadata": {},
   "outputs": [],
   "source": []
  }
 ],
 "metadata": {
  "kernelspec": {
   "display_name": "Python 3",
   "language": "python",
   "name": "python3"
  },
  "language_info": {
   "codemirror_mode": {
    "name": "ipython",
    "version": 3
   },
   "file_extension": ".py",
   "mimetype": "text/x-python",
   "name": "python",
   "nbconvert_exporter": "python",
   "pygments_lexer": "ipython3",
   "version": "3.6.12"
  }
 },
 "nbformat": 4,
 "nbformat_minor": 5
}
