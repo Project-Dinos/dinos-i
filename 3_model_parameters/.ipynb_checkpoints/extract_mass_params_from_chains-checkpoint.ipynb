{
 "cells": [
  {
   "cell_type": "code",
   "execution_count": 1,
   "id": "9cc93797",
   "metadata": {},
   "outputs": [],
   "source": [
    "import yaml\n",
    "import pandas as pd\n",
    "import matplotlib.pyplot as plt\n",
    "#lens_yaml = open(\"../../SLACS_directory/settings/Shajib2020_Lens.yml\")\n",
    "#lenses_yaml = yaml.load(lens_yaml, yaml.FullLoader)\n",
    "from dolphin.analysis.output import Output\n",
    "from lenstronomy.Util.param_util import ellipticity2phi_q\n",
    "import numpy as np\n",
    "import h5py\n"
   ]
  },
  {
   "cell_type": "code",
   "execution_count": 2,
   "id": "8bbc48ed",
   "metadata": {},
   "outputs": [],
   "source": [
    "def stats_giver(chain):\n",
    "    mean = np.median(chain)\n",
    "    d1 = np.percentile(chain, 50.) - np.percentile(chain, 16.)\n",
    "    d2 = np.percentile(chain, 84.) - np.percentile(chain, 50.)\n",
    "    return mean, d1, d2\n",
    "\n",
    "def angle_squeezer(x):\n",
    "    if x<-90:\n",
    "        return 180+x\n",
    "    elif x>90:\n",
    "        return x-180\n",
    "    else:\n",
    "        return x\n",
    "\n",
    "#def ext_corrector(x):\n",
    "#    if x>90:\n",
    "#        return x-180\n",
    "#    else:\n",
    "#        return x    \n",
    "    \n",
    "    \n",
    "def branch_corrector(x): #Correct for when the points are at -90,90 branch cuts\n",
    "    if x<0:\n",
    "        return x+180\n",
    "    else:\n",
    "        return x\n",
    "        \n",
    "def angle_stats_giver(chain):\n",
    "    chain_corr = [angle_squeezer(x) for x in chain]\n",
    "    chain_branch = [branch_corrector(x) for x in chain_corr ]    \n",
    "    a1,a2,a3 = stats_giver(chain_corr) \n",
    "    b1,b2,b3 = stats_giver(chain_branch) \n",
    "    if (abs(a2)+abs(a3)) < (abs(b2)+abs(b3)):\n",
    "        return a1,a2,a3\n",
    "    else:  \n",
    "        return angle_squeezer(b1),b2,b3        \n",
    "\n",
    "\n"
   ]
  },
  {
   "cell_type": "code",
   "execution_count": 5,
   "id": "db546695",
   "metadata": {},
   "outputs": [],
   "source": [
    "def ingestor(obj):\n",
    "    data_dict = {\"Lens_name\":obj}\n",
    "    chain = output.get_reshaped_emcee_chain(obj, \"dinos-i\" ,16)\n",
    "    params_mcmc = output.params_mcmc\n",
    "    \n",
    "    psiM_chain, qM_chain = ellipticity2phi_q(chain[:, -1, params_mcmc.index('e1_lens0')],chain[:, -1, params_mcmc.index('e2_lens0')]) \n",
    "    psiL_chain, qL_chain = ellipticity2phi_q(chain[:, -1, params_mcmc.index('e1_lens_light0')],chain[:, -1, params_mcmc.index('e2_lens_light0')]) \n",
    "\n",
    "    #Convert angles:\n",
    "    psi_ext_chain = chain[:, -1, params_mcmc.index('psi_ext_lens1')]*180/np.pi\n",
    "    psiM_chain = psiM_chain *180/np.pi\n",
    "    psiL_chain = psiL_chain *180/np.pi\n",
    "    \n",
    "    data_dict['R_Ein'], data_dict['R_Ein_e1'], data_dict['R_Ein_e2']   = stats_giver(chain[:, -1, params_mcmc.index('theta_E_lens0')])\n",
    "    data_dict['γ'], data_dict['γ_e1'], data_dict['γ_e2']               = stats_giver(chain[:, -1, params_mcmc.index('gamma_lens0')])\n",
    "    data_dict['PA ext'], data_dict['PA ext_e1'],data_dict['PA ext_e2'] = angle_stats_giver(psi_ext_chain)\n",
    "    data_dict['γ ext'], data_dict['γ ext_e1'], data_dict['γ ext_e2']   = stats_giver(chain[:, -1, params_mcmc.index('gamma_ext_lens1')])\n",
    "    data_dict['PA m'], data_dict['PA m_e1'], data_dict['PA m_e2']      = angle_stats_giver(psiM_chain)\n",
    "    data_dict['qm'],data_dict['qm_e1'],data_dict['qm_e2']              = stats_giver(qM_chain)\n",
    "    data_dict['e1 m'], data_dict['e1 m_e1'],data_dict['e1 m_e2']       = stats_giver(chain[:, -1, params_mcmc.index('e1_lens0')])\n",
    "    data_dict['e2 m'], data_dict['e2 m_e1'],data_dict['e2 m_e2']       = stats_giver(chain[:, -1, params_mcmc.index('e2_lens0')])\n",
    "    data_dict['PA L'],data_dict['PA L_e1'],data_dict['PA L_e2']        = angle_stats_giver(psiL_chain)\n",
    "    data_dict['qL'], data_dict['qL_e1'],data_dict['qL_e2']             = stats_giver(qL_chain)\n",
    "    data_dict['e1 L'], data_dict['e1 L_e1'],data_dict['e1 L_e2']       = stats_giver(chain[:, -1, params_mcmc.index('e1_lens_light0')])\n",
    "    data_dict['e2 L'], data_dict['e2 L_e1'],data_dict['e2 L_e2']       = stats_giver(chain[:, -1, params_mcmc.index('e2_lens_light0')])    \n",
    "        \n",
    "    return data_dict"
   ]
  },
  {
   "cell_type": "code",
   "execution_count": 6,
   "id": "078ed18b",
   "metadata": {
    "scrolled": true
   },
   "outputs": [
    {
     "data": {
      "text/plain": [
       "{'Lens_name': 'SDSSJ1627-0053',\n",
       " 'R_Ein': 1.220765442806839,\n",
       " 'R_Ein_e1': 0.0006903840549414841,\n",
       " 'R_Ein_e2': 0.000785400544580872,\n",
       " 'γ': 1.929324422579037,\n",
       " 'γ_e1': 0.04870759272205927,\n",
       " 'γ_e2': 0.03657621161800839,\n",
       " 'PA ext': 89.36800315479512,\n",
       " 'PA ext_e1': 1.3970514748524892,\n",
       " 'PA ext_e2': 1.1718712479972595,\n",
       " 'γ ext': 0.03371686480911229,\n",
       " 'γ ext_e1': 0.0022220994289812723,\n",
       " 'γ ext_e2': 0.0025780283195300582,\n",
       " 'PA m': 84.39405828961358,\n",
       " 'PA m_e1': 0.752663224985838,\n",
       " 'PA m_e2': 0.7037017763875468,\n",
       " 'qm': 0.8317744852225124,\n",
       " 'qm_e1': 0.004609128480616342,\n",
       " 'qm_e2': 0.004783062400488314,\n",
       " 'e1 m': -0.09004892151148047,\n",
       " 'e1 m_e1': 0.0026793838735414827,\n",
       " 'e1 m_e2': 0.0027628535392848347,\n",
       " 'e2 m': 0.017849407006986527,\n",
       " 'e2 m_e1': 0.0025001837121102054,\n",
       " 'e2 m_e2': 0.002423423566008588,\n",
       " 'PA L': 86.63386811613233,\n",
       " 'PA L_e1': 0.24883236808742026,\n",
       " 'PA L_e2': 0.24228465091366047,\n",
       " 'qL': 0.8218214948988916,\n",
       " 'qL_e1': 0.0014956613883363445,\n",
       " 'qL_e2': 0.0013250676588193455,\n",
       " 'e1 L': -0.09717840705167682,\n",
       " 'e1 L_e1': 0.0008259219796482031,\n",
       " 'e1 L_e2': 0.000849501163148414,\n",
       " 'e2 L': 0.01146652535132097,\n",
       " 'e2 L_e1': 0.0008137767567946777,\n",
       " 'e2 L_e2': 0.0008566592183720141}"
      ]
     },
     "execution_count": 6,
     "metadata": {},
     "output_type": "execute_result"
    }
   ],
   "source": [
    "output = Output('../')\n",
    "ingestor('SDSSJ1627-0053')"
   ]
  },
  {
   "cell_type": "code",
   "execution_count": null,
   "id": "f52a7173",
   "metadata": {},
   "outputs": [],
   "source": []
  }
 ],
 "metadata": {
  "kernelspec": {
   "display_name": "Python 3",
   "language": "python",
   "name": "python3"
  },
  "language_info": {
   "codemirror_mode": {
    "name": "ipython",
    "version": 3
   },
   "file_extension": ".py",
   "mimetype": "text/x-python",
   "name": "python",
   "nbconvert_exporter": "python",
   "pygments_lexer": "ipython3",
   "version": "3.7.10"
  }
 },
 "nbformat": 4,
 "nbformat_minor": 5
}
