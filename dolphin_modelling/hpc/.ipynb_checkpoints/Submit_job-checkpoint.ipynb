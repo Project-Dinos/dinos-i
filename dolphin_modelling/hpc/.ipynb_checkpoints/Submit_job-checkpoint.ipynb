{
 "cells": [
  {
   "cell_type": "code",
   "execution_count": 1,
   "id": "5e91dd78",
   "metadata": {},
   "outputs": [],
   "source": [
    "import sys\n",
    "import os\n",
    "import time\n"
   ]
  },
  {
   "cell_type": "code",
   "execution_count": 2,
   "id": "477ed86b",
   "metadata": {},
   "outputs": [],
   "source": [
    "run_id = \"Nov2\" # Use 3 -characters please\n",
    "\n"
   ]
  },
  {
   "cell_type": "code",
   "execution_count": 3,
   "id": "8b16d83f",
   "metadata": {},
   "outputs": [],
   "source": [
    "SLACS_Lenses  = ['SDSSJ0008-0004', 'SDSSJ0029-0055', 'SDSSJ0037-0942', 'SDSSJ0044+0113', 'SDSSJ0252+0039',\n",
    "                 'SDSSJ0330-0020', 'SDSSJ0728+3835', 'SDSSJ0737+3216', 'SDSSJ0819+4534', 'SDSSJ0903+4116',\n",
    "                 'SDSSJ0912+0029', 'SDSSJ0935-0003', 'SDSSJ0936+0913',  'SDSSJ0959+4416',\n",
    "                 'SDSSJ1016+3859', 'SDSSJ1020+1122', 'SDSSJ1023+4230', 'SDSSJ1100+5329', 'SDSSJ1112+0826',\n",
    "                 'SDSSJ1134+6027', 'SDSSJ1142+1001', 'SDSSJ1143-0144', 'SDSSJ1153+4612', 'SDSSJ1204+0358',\n",
    "                 'SDSSJ1213+6708', 'SDSSJ1218+0830', 'SDSSJ1250+0523', 'SDSSJ1306+0600', 'SDSSJ1313+4615',\n",
    "                 'SDSSJ1319+1504', 'SDSSJ1402+6321', 'SDSSJ1403+0006', 'SDSSJ1432+6317', 'SDSSJ1531-0105',\n",
    "                 'SDSSJ1538+5817',  'SDSSJ1621+3931', 'SDSSJ1627-0053', \n",
    "                 'SDSSJ1636+4707', 'SDSSJ1644+2625', 'SDSSJ2238-0754', 'SDSSJ2300+0022', 'SDSSJ2302-0840',\n",
    "                 'SDSSJ2303+1422', 'SDSSJ2321-0939', 'SDSSJ2341+0000', 'SDSSJ2343-0030', 'SDSSJ2347-0005']\n",
    "\n",
    "#'SDSSJ0959+0410','SDSSJ1614+4522','SDSSJ1630+4520',"
   ]
  },
  {
   "cell_type": "code",
   "execution_count": 6,
   "id": "f5f81f5d",
   "metadata": {
    "scrolled": false
   },
   "outputs": [
    {
     "name": "stdout",
     "output_type": "stream",
     "text": [
      "sbatch Nov2_SDSSJ2238-0754.sh\n",
      "Submitted batch job 23416256\n",
      "./create_job_slurm.sh Nov2 SDSSJ2238-0754\n",
      "1 jobs submitted!\n"
     ]
    }
   ],
   "source": [
    "for lens_name in SLACS_Lenses:\n",
    "    os.system('./create_job_slurm.sh {} {}'.format(run_id,lens_name))\n",
    "  #  os.system('sbatch create_job_slurm.sh {} {}'.format(run_id, lens_name))\n",
    "    print('./create_job_slurm.sh {} {}'.format(run_id, lens_name))\n",
    "    time.sleep(0.5)\n",
    "\n",
    "print('{} jobs submitted!'.format(len(SLACS_Lenses)))"
   ]
  },
  {
   "cell_type": "code",
   "execution_count": 7,
   "id": "023640ac",
   "metadata": {},
   "outputs": [
    {
     "name": "stdout",
     "output_type": "stream",
     "text": [
      "             JOBID PARTITION     NAME     USER ST       TIME  NODES NODELIST(REASON)\n",
      "          23416256   broadwl Nov22238   chinyi PD       0:00      1 (Priority)\n",
      "          23409166   broadwl Nov20029   chinyi  R    6:46:27      1 midway2-0090\n",
      "          23409181   broadwl Nov20037   chinyi  R    6:46:27      1 midway2-0091\n",
      "          23409193   broadwl Nov20728   chinyi  R    6:46:27      1 midway2-0092\n",
      "          23409199   broadwl Nov20737   chinyi  R    6:46:27      1 midway2-0093\n",
      "          23409210   broadwl Nov20903   chinyi  R    6:46:27      1 midway2-0094\n",
      "          23409223   broadwl Nov20959   chinyi  R    6:46:27      1 midway2-0095\n",
      "          23409224   broadwl Nov21204   chinyi  R    6:46:27      1 midway2-0096\n",
      "          23409236   broadwl Nov21250   chinyi  R    6:46:27      1 midway2-0097\n",
      "          23409252   broadwl Nov21306   chinyi  R    6:46:27      1 midway2-0098\n",
      "          23409265   broadwl Nov21402   chinyi  R    6:46:27      1 midway2-0099\n",
      "          23409277   broadwl Nov21531   chinyi  R    6:46:27      1 midway2-0100\n",
      "          23409286   broadwl Nov21627   chinyi  R    6:46:27      1 midway2-0101\n",
      "          23409299   broadwl Nov21630   chinyi  R    6:46:27      1 midway2-0102\n",
      "          23409311   broadwl Nov21636   chinyi  R    6:46:27      1 midway2-0103\n",
      "          23409321   broadwl Nov22300   chinyi  R    6:46:27      1 midway2-0104\n",
      "          23409330   broadwl Nov22303   chinyi  R    6:46:27      1 midway2-0105\n"
     ]
    }
   ],
   "source": [
    "! squeue -u chinyi"
   ]
  },
  {
   "cell_type": "code",
   "execution_count": null,
   "id": "8dec325e",
   "metadata": {},
   "outputs": [],
   "source": []
  }
 ],
 "metadata": {
  "kernelspec": {
   "display_name": "Python 3",
   "language": "python",
   "name": "python3"
  },
  "language_info": {
   "codemirror_mode": {
    "name": "ipython",
    "version": 3
   },
   "file_extension": ".py",
   "mimetype": "text/x-python",
   "name": "python",
   "nbconvert_exporter": "python",
   "pygments_lexer": "ipython3",
   "version": "3.7.10"
  }
 },
 "nbformat": 4,
 "nbformat_minor": 5
}
