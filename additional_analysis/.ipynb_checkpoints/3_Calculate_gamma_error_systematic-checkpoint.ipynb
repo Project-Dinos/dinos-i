{
 "cells": [
  {
   "cell_type": "code",
   "execution_count": 1,
   "id": "initial_id",
   "metadata": {
    "ExecuteTime": {
     "end_time": "2023-10-14T22:00:16.266158Z",
     "start_time": "2023-10-14T22:00:15.260699Z"
    }
   },
   "outputs": [],
   "source": [
    "import glob\n",
    "import pickle\n",
    "import pandas as pd\n",
    "import matplotlib.pyplot as plt\n",
    "import numpy as np\n",
    "import pandas\n",
    "import scipy.stats\n",
    "from lenstronomy.Data.coord_transforms import Coordinates\n",
    "from photutils.segmentation import detect_sources\n",
    "from scipy.optimize import minimize\n",
    "\n",
    "save_figures= False"
   ]
  },
  {
   "cell_type": "markdown",
   "id": "d459fd20fc1b70c7",
   "metadata": {},
   "source": [
    "# load the output files"
   ]
  },
  {
   "cell_type": "code",
   "execution_count": 2,
   "id": "c6a1d94fb620d1ca",
   "metadata": {
    "ExecuteTime": {
     "end_time": "2023-10-14T22:00:16.273011Z",
     "start_time": "2023-10-14T22:00:16.266919Z"
    }
   },
   "outputs": [],
   "source": [
    "files_all_dinos = sorted(glob.glob(\"./data/pkl_files/*.npy\"))  # files for all dinos lenses\n",
    "files = sorted(glob.glob(\"./data/pkl_file2/*.npy\"))\n",
    "#files = sorted(\n",
    "#    glob.glob(\"./data/pkl_file2/*.npy\")\n",
    "#)  # 32 lenses to compare with Etherington+22 and Shaji+20"
   ]
  },
  {
   "cell_type": "code",
   "execution_count": 3,
   "id": "5233db200c77b42b",
   "metadata": {
    "ExecuteTime": {
     "end_time": "2023-10-14T22:00:16.279825Z",
     "start_time": "2023-10-14T22:00:16.269712Z"
    }
   },
   "outputs": [],
   "source": [
    "def get_signal_to_noises(a=1, b=1, files=files, verbose=False):\n",
    "    \"\"\"\n",
    "    Compute signal to noise ratios for all images.\n",
    "    :param a: weight for radial distance\n",
    "    :type a: float\n",
    "    :param b: weight for angular stretch\n",
    "    :type b: float\n",
    "    :param files: list of files\n",
    "    :type files: list\n",
    "    :param verbose: for plotting\n",
    "    :type verbose: bool\n",
    "    :return: names, weighted_sns, unweighted_sns\n",
    "    :rtype: np.array, np.array, np.array\n",
    "    \"\"\"\n",
    "    names = []\n",
    "    weighted_sns = []\n",
    "    unweighted_sns = []\n",
    "\n",
    "    for i, file in enumerate(files):\n",
    "        with open(file, \"rb\") as f:\n",
    "            data = np.load(f, allow_pickle=True)\n",
    "\n",
    "            kwargs_data = data[0]\n",
    "            image = kwargs_data[\"image_data\"]\n",
    "            background_rms = kwargs_data[\"background_rms\"]\n",
    "            lens_light_subtracted_image = data[0][\"lens_light_subtracted_image_data\"]\n",
    "            noise = image.copy()\n",
    "            noise[noise < 0.0] = 1e-10\n",
    "            noise = np.sqrt(\n",
    "                noise / kwargs_data[\"exposure_time\"]\n",
    "                + kwargs_data[\"background_rms\"] ** 2\n",
    "            )\n",
    "\n",
    "            kwargs_result = data[3][\"kwargs_result\"]\n",
    "            mask = data[3][\"mask\"]\n",
    "\n",
    "            theta_E = kwargs_result[\"kwargs_lens\"][0][\"theta_E\"]\n",
    "\n",
    "            ra_at_xy_0 = kwargs_data[\"ra_at_xy_0\"]\n",
    "            dec_at_xy_0 = kwargs_data[\"dec_at_xy_0\"]\n",
    "\n",
    "            ra_offset = kwargs_data[\"ra_shift\"]\n",
    "            dec_offset = kwargs_data[\"dec_shift\"]\n",
    "\n",
    "            transform_pix2angle = kwargs_data[\"transform_pix2angle\"]\n",
    "            coords = Coordinates(transform_pix2angle, ra_at_xy_0, dec_at_xy_0)\n",
    "\n",
    "            center_x = kwargs_result[\"kwargs_lens\"][0][\"center_x\"] - ra_offset\n",
    "            center_y = kwargs_result[\"kwargs_lens\"][0][\"center_y\"] - dec_offset\n",
    "\n",
    "            x0, y0 = coords.map_coord2pix(center_x, center_y)\n",
    "\n",
    "            xs, ys = np.meshgrid(np.arange(image.shape[0]), np.arange(image.shape[1]))\n",
    "\n",
    "            x_coords, y_coords = coords.map_pix2coord(xs.flatten(), ys.flatten())\n",
    "            x_coords = x_coords.reshape(xs.shape)\n",
    "            y_coords = y_coords.reshape(ys.shape)\n",
    "\n",
    "            r = np.sqrt((x_coords - center_x) ** 2 + (y_coords - center_y) ** 2)\n",
    "\n",
    "            radial_weight = np.abs(r - theta_E) / theta_E\n",
    "\n",
    "            threshold = 3.0\n",
    "            sn_masked = np.abs(lens_light_subtracted_image / noise)\n",
    "            sn_masked[lens_light_subtracted_image < threshold * background_rms] = 0.0\n",
    "            sn_masked *= mask\n",
    "\n",
    "            max_pixel = np.argwhere(sn_masked == sn_masked.max())[0]\n",
    "            max_ra, max_dec = coords.map_pix2coord(max_pixel[1], max_pixel[0])\n",
    "            max_ra -= center_x\n",
    "            max_dec -= center_y\n",
    "            delta_pa = np.arctan((y_coords - center_y) / (x_coords - center_x))\n",
    "\n",
    "            delta_pa -= np.arctan(max_dec / max_ra)\n",
    "            delta_pa = delta_pa % (np.pi)\n",
    "            delta_pa[delta_pa > np.pi / 2] = np.pi - delta_pa[delta_pa > np.pi / 2]\n",
    "\n",
    "            angular_weight = delta_pa * 2.0 / np.pi\n",
    "\n",
    "            weight = 1.0 + a * radial_weight * (1.0 + b * angular_weight)\n",
    "\n",
    "            weighted_signal = lens_light_subtracted_image * weight\n",
    "            weighted_signal[\n",
    "                lens_light_subtracted_image < threshold * background_rms\n",
    "            ] = 0.0\n",
    "            weighted_signal *= mask\n",
    "\n",
    "            segmentation_mask = detect_sources(\n",
    "                weighted_signal / noise, 0, npixels=5\n",
    "            ).data\n",
    "            segmentation_mask[segmentation_mask > 0] = 1.0\n",
    "            weighted_signal *= segmentation_mask\n",
    "\n",
    "            weighted_sn = weighted_signal / noise\n",
    "\n",
    "            final_mask = np.zeros_like(weighted_signal)\n",
    "            final_mask[weighted_signal > 0.0] = 1.0\n",
    "\n",
    "            names.append(file[23:37])\n",
    "            weighted_sns.append(\n",
    "                np.sum(weighted_signal) / np.sqrt(np.sum(noise**2 * final_mask))\n",
    "            )\n",
    "            unweighted_sns.append(\n",
    "                np.sum(lens_light_subtracted_image * final_mask)\n",
    "                / np.sqrt(np.sum(noise**2 * final_mask))\n",
    "            )\n",
    "\n",
    "            if verbose and i == 1:\n",
    "                plt.matshow(\n",
    "                    weighted_sn,\n",
    "                    origin=\"lower\",\n",
    "                )\n",
    "                plt.plot(x0, y0, \"rx\")\n",
    "                plt.title(f\"{names[-1][4:9]}, total wtd S/N: {weighted_sns[-1]:.1f}\")\n",
    "                plt.colorbar(label=\"weighted S/N\")\n",
    "                plt.show()\n",
    "\n",
    "    return np.array(names), np.array(weighted_sns), np.array(unweighted_sns)"
   ]
  },
  {
   "cell_type": "code",
   "execution_count": 4,
   "id": "d3b10f16c91c6c2e",
   "metadata": {
    "ExecuteTime": {
     "end_time": "2023-10-14T22:00:16.507895Z",
     "start_time": "2023-10-14T22:00:16.279929Z"
    }
   },
   "outputs": [
    {
     "data": {
      "image/png": "[encoded data removed]",
      "text/plain": [
       "<Figure size 288x288 with 2 Axes>"
      ]
     },
     "metadata": {
      "needs_background": "light"
     },
     "output_type": "display_data"
    }
   ],
   "source": [
    "# example\n",
    "(\n",
    "    names_all_dinos,\n",
    "    weighted_sns_all_dinos,\n",
    "    unweighted_sns_all_dinos,\n",
    ") = get_signal_to_noises(a=1, b=1, files=files_all_dinos, verbose=True)"
   ]
  },
  {
   "cell_type": "code",
   "execution_count": 5,
   "id": "a9099a69fcf9b9fd",
   "metadata": {
    "ExecuteTime": {
     "end_time": "2023-10-14T22:00:16.514808Z",
     "start_time": "2023-10-14T22:00:16.509358Z"
    }
   },
   "outputs": [
    {
     "data": {
      "text/plain": [
       "77"
      ]
     },
     "execution_count": 5,
     "metadata": {},
     "output_type": "execute_result"
    }
   ],
   "source": [
    "len(unweighted_sns_all_dinos)"
   ]
  },
  {
   "cell_type": "code",
   "execution_count": 6,
   "id": "aaff40a6f48a5162",
   "metadata": {
    "ExecuteTime": {
     "end_time": "2023-10-14T22:00:16.582457Z",
     "start_time": "2023-10-14T22:00:16.513860Z"
    }
   },
   "outputs": [
    {
     "data": {
      "text/plain": [
       "Text(0, 0.5, 'weighted S/N ')"
      ]
     },
     "execution_count": 6,
     "metadata": {},
     "output_type": "execute_result"
    },
    {
     "data": {
      "image/png": "[encoded data removed]",
      "text/plain": [
       "<Figure size 432x288 with 1 Axes>"
      ]
     },
     "metadata": {
      "needs_background": "light"
     },
     "output_type": "display_data"
    }
   ],
   "source": [
    "plt.scatter(unweighted_sns_all_dinos, weighted_sns_all_dinos)\n",
    "plt.xlabel(\"unweighted S/N\")\n",
    "plt.ylabel(\"weighted S/N \")"
   ]
  },
  {
   "cell_type": "markdown",
   "id": "500fde3cba8fce4d",
   "metadata": {},
   "source": [
    "# correlation between S/N and gamma_err"
   ]
  },
  {
   "cell_type": "code",
   "execution_count": 7,
   "id": "b95c6d0dcdb00e12",
   "metadata": {
    "ExecuteTime": {
     "end_time": "2023-10-14T22:00:16.589055Z",
     "start_time": "2023-10-14T22:00:16.582722Z"
    }
   },
   "outputs": [],
   "source": [
    "df_all = pandas.read_csv(\n",
    "    \"data/DINOS_Lenses.csv\",\n",
    "    header=0,\n",
    ")"
   ]
  },
  {
   "cell_type": "code",
   "execution_count": 8,
   "id": "7fe13b4ed3e697ab",
   "metadata": {
    "ExecuteTime": {
     "end_time": "2023-10-14T22:00:16.591455Z",
     "start_time": "2023-10-14T22:00:16.587853Z"
    }
   },
   "outputs": [
    {
     "data": {
      "text/plain": [
       "Index(['Lens Name', 'R_Ein', 'R_Ein E1', 'R_Ein E2', 'γ', 'γ E1', 'γ E2'], dtype='object')"
      ]
     },
     "execution_count": 8,
     "metadata": {},
     "output_type": "execute_result"
    }
   ],
   "source": [
    "df_all.keys()"
   ]
  },
  {
   "cell_type": "code",
   "execution_count": 9,
   "id": "74f922a407c5fe64",
   "metadata": {
    "ExecuteTime": {
     "end_time": "2023-10-14T22:00:16.632889Z",
     "start_time": "2023-10-14T22:00:16.606486Z"
    }
   },
   "outputs": [],
   "source": [
    "gammas_all_dinos = []\n",
    "gamma_errs_all_dinos = []\n",
    "\n",
    "for name in names_all_dinos:\n",
    "    gammas_all_dinos.append(df_all[df_all[\"Lens Name\"] == name][\"γ\"].values[0])\n",
    "    gamma_errs_all_dinos.append(\n",
    "        (\n",
    "            df_all[df_all[\"Lens Name\"] == name][\"γ E1\"].values[0]\n",
    "            + df_all[df_all[\"Lens Name\"] == name][\"γ E2\"].values[0]\n",
    "        )\n",
    "        / 2.0\n",
    "    )"
   ]
  },
  {
   "cell_type": "code",
   "execution_count": 10,
   "id": "4a2943a4a7370cdf",
   "metadata": {
    "ExecuteTime": {
     "end_time": "2023-10-14T22:00:16.831989Z",
     "start_time": "2023-10-14T22:00:16.630806Z"
    }
   },
   "outputs": [
    {
     "data": {
      "image/png": "[encoded data removed]",
      "text/plain": [
       "<Figure size 432x288 with 1 Axes>"
      ]
     },
     "metadata": {
      "needs_background": "light"
     },
     "output_type": "display_data"
    },
    {
     "data": {
      "text/plain": [
       "(-0.680605384588048, 9.794993109414005e-12)"
      ]
     },
     "execution_count": 10,
     "metadata": {},
     "output_type": "execute_result"
    }
   ],
   "source": [
    "plt.loglog(weighted_sns_all_dinos, gamma_errs_all_dinos, \"o\")\n",
    "plt.xlabel(\"weighted S/N\")\n",
    "plt.ylabel(\"gamma_err\")\n",
    "plt.title(\"This analysis\")\n",
    "plt.show()\n",
    "\n",
    "\n",
    "scipy.stats.pearsonr(\n",
    "    np.log(weighted_sns_all_dinos), np.log(np.array(gamma_errs_all_dinos))\n",
    ")"
   ]
  },
  {
   "cell_type": "code",
   "execution_count": 11,
   "id": "8cf94a90ab68836c",
   "metadata": {
    "ExecuteTime": {
     "end_time": "2023-10-14T22:00:16.834670Z",
     "start_time": "2023-10-14T22:00:16.831342Z"
    }
   },
   "outputs": [
    {
     "data": {
      "text/plain": [
       "(-0.650528179940891, 1.517504135527531e-10)"
      ]
     },
     "execution_count": 11,
     "metadata": {},
     "output_type": "execute_result"
    }
   ],
   "source": [
    "scipy.stats.pearsonr(\n",
    "    np.log(unweighted_sns_all_dinos), np.log(np.array(gamma_errs_all_dinos))\n",
    ")"
   ]
  },
  {
   "cell_type": "code",
   "execution_count": 12,
   "id": "9c766f6f9e1648bb",
   "metadata": {
    "ExecuteTime": {
     "end_time": "2023-10-14T22:00:16.841511Z",
     "start_time": "2023-10-14T22:00:16.834323Z"
    }
   },
   "outputs": [
    {
     "name": "stderr",
     "output_type": "stream",
     "text": [
      "/home/s1/chinyi/.conda/envs/astroconda/lib/python3.7/site-packages/scipy/optimize/_minimize.py:536: RuntimeWarning: Method Nelder-Mead cannot handle constraints nor bounds.\n",
      "  RuntimeWarning)\n"
     ]
    }
   ],
   "source": [
    "# get slope of gamma_err vs weighted_sns\n",
    "\n",
    "\n",
    "def error(params):\n",
    "    m, b = params\n",
    "    return np.sum(\n",
    "        (np.log(gamma_errs_all_dinos) - (m * np.log(weighted_sns_all_dinos) + b)) ** 2\n",
    "    )\n",
    "\n",
    "\n",
    "res = minimize(error, x0=[-2, 5], bounds=[(-10, 10), (-10, 10)], method=\"Nelder-Mead\")"
   ]
  },
  {
   "cell_type": "code",
   "execution_count": 13,
   "id": "e4d82a7dbe84c3fd",
   "metadata": {
    "ExecuteTime": {
     "end_time": "2023-10-14T22:00:16.844064Z",
     "start_time": "2023-10-14T22:00:16.841180Z"
    }
   },
   "outputs": [
    {
     "data": {
      "text/plain": [
       " final_simplex: (array([[-0.76574065,  0.70290832],\n",
       "       [-0.76575306,  0.70296323],\n",
       "       [-0.76573237,  0.70285663]]), array([36.26949215, 36.26949215, 36.26949215]))\n",
       "           fun: 36.26949214875002\n",
       "       message: 'Optimization terminated successfully.'\n",
       "          nfev: 94\n",
       "           nit: 48\n",
       "        status: 0\n",
       "       success: True\n",
       "             x: array([-0.76574065,  0.70290832])"
      ]
     },
     "execution_count": 13,
     "metadata": {},
     "output_type": "execute_result"
    }
   ],
   "source": [
    "res"
   ]
  },
  {
   "cell_type": "markdown",
   "id": "5d710e47af2a541f",
   "metadata": {},
   "source": [
    "The slope is -0.76, so gamma_err ~ weighted_sns**-1 is a good approximation."
   ]
  },
  {
   "cell_type": "markdown",
   "id": "fc380313122bb760",
   "metadata": {},
   "source": [
    "\n",
    "### optimize weights in weighted S/N"
   ]
  },
  {
   "cell_type": "code",
   "execution_count": 14,
   "id": "31378b8c8054adcf",
   "metadata": {
    "ExecuteTime": {
     "end_time": "2023-10-14T22:00:16.850482Z",
     "start_time": "2023-10-14T22:00:16.846730Z"
    }
   },
   "outputs": [],
   "source": [
    "def get_pearson_r(params):\n",
    "    \"\"\"\n",
    "\n",
    "    :param a:\n",
    "    :type a:\n",
    "    :param b:\n",
    "    :type b:\n",
    "    :return:\n",
    "    :rtype:\n",
    "    \"\"\"\n",
    "    a, b = params\n",
    "    _, weighted_sns, unweighted_sns = get_signal_to_noises(\n",
    "        a, b, files=files_all_dinos, verbose=False\n",
    "    )\n",
    "\n",
    "    return scipy.stats.pearsonr(np.log(weighted_sns), np.log(gamma_errs_all_dinos))[0]"
   ]
  },
  {
   "cell_type": "code",
   "execution_count": 15,
   "id": "c0320a38f120fd90",
   "metadata": {
    "ExecuteTime": {
     "end_time": "2023-10-14T22:00:17.020357Z",
     "start_time": "2023-10-14T22:00:16.849139Z"
    }
   },
   "outputs": [
    {
     "data": {
      "text/plain": [
       "-0.705697626972285"
      ]
     },
     "execution_count": 15,
     "metadata": {},
     "output_type": "execute_result"
    }
   ],
   "source": [
    "get_pearson_r([10, 0])"
   ]
  },
  {
   "cell_type": "code",
   "execution_count": 16,
   "id": "fcad9eab2518f150",
   "metadata": {
    "ExecuteTime": {
     "end_time": "2023-10-14T22:00:21.195653Z",
     "start_time": "2023-10-14T22:00:17.021218Z"
    }
   },
   "outputs": [
    {
     "data": {
      "text/plain": [
       "(      fun: -0.7060153062547858\n",
       "  hess_inv: <2x2 LbfgsInvHessProduct with dtype=float64>\n",
       "       jac: array([-4.28546052e-06, -6.13953333e-06])\n",
       "   message: 'CONVERGENCE: NORM_OF_PROJECTED_GRADIENT_<=_PGTOL'\n",
       "      nfev: 39\n",
       "       nit: 12\n",
       "      njev: 13\n",
       "    status: 0\n",
       "   success: True\n",
       "         x: array([15.55438673,  0.0708566 ]),\n",
       " -0.7060153062547858)"
      ]
     },
     "execution_count": 16,
     "metadata": {},
     "output_type": "execute_result"
    }
   ],
   "source": [
    "res = minimize(\n",
    "    get_pearson_r,\n",
    "    x0=np.array([1.0, 1]),\n",
    "    bounds=[(-100, 100), (-100, 100)],\n",
    "    # method=\"Nelder-Mead\"\n",
    ")\n",
    "\n",
    "res, get_pearson_r(res.x)"
   ]
  },
  {
   "cell_type": "code",
   "execution_count": 17,
   "id": "b17c9bc84d61c484",
   "metadata": {
    "ExecuteTime": {
     "end_time": "2023-10-14T22:00:21.307148Z",
     "start_time": "2023-10-14T22:00:21.194996Z"
    }
   },
   "outputs": [
    {
     "data": {
      "text/plain": [
       "-0.7060010193070825"
      ]
     },
     "execution_count": 17,
     "metadata": {},
     "output_type": "execute_result"
    }
   ],
   "source": [
    "get_pearson_r([15, 0.0])"
   ]
  },
  {
   "cell_type": "code",
   "execution_count": 18,
   "id": "8bd098098572b5c0",
   "metadata": {
    "ExecuteTime": {
     "end_time": "2023-10-14T22:00:21.372528Z",
     "start_time": "2023-10-14T22:00:21.307478Z"
    }
   },
   "outputs": [],
   "source": [
    "names, weighted_sns, unweighted_sns = get_signal_to_noises(\n",
    "    a=res.x[0], b=res.x[1], verbose=False\n",
    ")"
   ]
  },
  {
   "cell_type": "code",
   "execution_count": 19,
   "id": "f99be3114bc6ff28",
   "metadata": {
    "ExecuteTime": {
     "end_time": "2023-10-14T22:00:21.436945Z",
     "start_time": "2023-10-14T22:00:21.377666Z"
    }
   },
   "outputs": [
    {
     "data": {
      "image/png": "[encoded data removed]",
      "text/plain": [
       "<Figure size 432x288 with 1 Axes>"
      ]
     },
     "metadata": {
      "needs_background": "light"
     },
     "output_type": "display_data"
    }
   ],
   "source": [
    "plt.plot(np.log(weighted_sns_all_dinos), np.log10(gamma_errs_all_dinos), \"o\")\n",
    "plt.xlabel(\"weighted S/N\")\n",
    "plt.ylabel(\"gamma_err\")\n",
    "plt.show()"
   ]
  },
  {
   "cell_type": "markdown",
   "id": "55a441ed93e4be8",
   "metadata": {},
   "source": [
    "Taking a = 15, b = 0."
   ]
  },
  {
   "cell_type": "markdown",
   "id": "a68985e29e8fa09a",
   "metadata": {},
   "source": [
    "## loading values from other lens outputs for comparison"
   ]
  },
  {
   "cell_type": "code",
   "execution_count": 20,
   "id": "1db37218b9e7d425",
   "metadata": {
    "ExecuteTime": {
     "end_time": "2023-10-14T22:00:21.549866Z",
     "start_time": "2023-10-14T22:00:21.437325Z"
    }
   },
   "outputs": [],
   "source": [
    "# recompute weighted SNs with optimized weights\n",
    "(\n",
    "    names_all_dinos,\n",
    "    weighted_sns_all_dinos,\n",
    "    unweighted_sns_all_dinos,\n",
    ") = get_signal_to_noises(a=15, b=0, files=files_all_dinos, verbose=False)"
   ]
  },
  {
   "cell_type": "code",
   "execution_count": 21,
   "id": "1634da660b4cdbf7",
   "metadata": {
    "ExecuteTime": {
     "end_time": "2023-10-14T22:00:21.608638Z",
     "start_time": "2023-10-14T22:00:21.550523Z"
    }
   },
   "outputs": [],
   "source": [
    "names, weighted_sns, unweighted_sns = get_signal_to_noises(a=15, b=0, verbose=False)"
   ]
  },
  {
   "cell_type": "code",
   "execution_count": 31,
   "id": "27c98e8bbb241d46",
   "metadata": {
    "ExecuteTime": {
     "end_time": "2023-10-14T22:00:21.614490Z",
     "start_time": "2023-10-14T22:00:21.609019Z"
    }
   },
   "outputs": [],
   "source": [
    "df = pandas.read_csv(\n",
    "    \"data/Sum_SN_vs_gamma_diff_v2.csv\",\n",
    "    header=0,\n",
    ")\n",
    "\n",
    "\n",
    "df = df[:36]"
   ]
  },
  {
   "cell_type": "code",
   "execution_count": 32,
   "id": "52a0fd2a66e7a5aa",
   "metadata": {
    "ExecuteTime": {
     "end_time": "2023-10-14T22:00:21.637655Z",
     "start_time": "2023-10-14T22:00:21.628651Z"
    }
   },
   "outputs": [
    {
     "data": {
      "text/plain": [
       "21"
      ]
     },
     "execution_count": 32,
     "metadata": {},
     "output_type": "execute_result"
    }
   ],
   "source": [
    "# how many lenses to compare between this analysis and Etherington+22\n",
    "np.sum(np.logical_not(np.isnan(df[\"gamma_err_eth\"].values)))"
   ]
  },
  {
   "cell_type": "code",
   "execution_count": 35,
   "id": "fbb21fb2736a5377",
   "metadata": {
    "ExecuteTime": {
     "end_time": "2023-10-14T22:00:21.681960Z",
     "start_time": "2023-10-14T22:00:21.648282Z"
    }
   },
   "outputs": [
    {
     "data": {
      "text/plain": [
       "34"
      ]
     },
     "execution_count": 35,
     "metadata": {},
     "output_type": "execute_result"
    }
   ],
   "source": [
    "# match lens_name and extract gamma\n",
    "gammas_tan = []\n",
    "gamma_errs_tan = []\n",
    "gammas_eth = []\n",
    "gamma_errs_eth = []\n",
    "\n",
    "for name in names:\n",
    "    gammas_tan.append(df[df[\"lens_name\"] == name][\"gamma_tan\"].values[0])\n",
    "    gamma_errs_tan.append(df[df[\"lens_name\"] == name][\"gamma_err_tan\"].values[0])\n",
    "\n",
    "    gammas_eth.append(df[df[\"lens_name\"] == name][\"gamma_eth\"].values[0])\n",
    "    gamma_errs_eth.append(df[df[\"lens_name\"] == name][\"gamma_err_eth\"].values[0])\n",
    "\n",
    "gammas_tan = np.array(gammas_tan)\n",
    "gamma_errs_tan = np.array(gamma_errs_tan)\n",
    "gammas_eth = np.array(gammas_eth)\n",
    "gamma_errs_eth = np.array(gamma_errs_eth)\n",
    "\n",
    "len(gammas_tan)"
   ]
  },
  {
   "cell_type": "code",
   "execution_count": 36,
   "id": "491d0687841e2649",
   "metadata": {
    "ExecuteTime": {
     "end_time": "2023-10-14T22:00:21.803034Z",
     "start_time": "2023-10-14T22:00:21.664723Z"
    }
   },
   "outputs": [
    {
     "data": {
      "image/png": "[encoded data removed]",
      "text/plain": [
       "<Figure size 432x288 with 1 Axes>"
      ]
     },
     "metadata": {
      "needs_background": "light"
     },
     "output_type": "display_data"
    },
    {
     "name": "stdout",
     "output_type": "stream",
     "text": [
      "This analysis:  (-0.6839316533666313, 0.0008832426162764973)\n",
      "Etherington+22:  (-0.6563920577840711, 0.0016704954116945217)\n"
     ]
    }
   ],
   "source": [
    "plt.loglog(weighted_sns, gamma_errs_tan, \"o\", label=\"This analysis\")\n",
    "plt.loglog(weighted_sns, gamma_errs_eth, \"o\", label=\"Etherington+22\")\n",
    "plt.xlabel(\"weighted S/N\")\n",
    "plt.ylabel(\"gamma_err\")\n",
    "plt.legend()\n",
    "plt.show()\n",
    "\n",
    "\n",
    "has_eth = np.logical_not(np.isnan(gamma_errs_eth))\n",
    "\n",
    "print(\n",
    "    \"This analysis: \",\n",
    "    scipy.stats.pearsonr(\n",
    "        np.log(weighted_sns)[has_eth], np.log(np.array(gamma_errs_tan))[has_eth]\n",
    "    ),\n",
    ")\n",
    "print(\n",
    "    \"Etherington+22: \",\n",
    "    scipy.stats.pearsonr(\n",
    "        np.log(weighted_sns)[has_eth], np.log(np.array(gamma_errs_eth))[has_eth]\n",
    "    ),\n",
    ")\n",
    "# scipy.stats.pearsonr(np.log(weighted_sns)[has_eth], np.log(np.array(gamma_errs_eth))[has_eth])\n",
    "# scipy.stats.pearsonr(np.log(weighted_sns), np.log(np.array(gamma_errs_tan)))"
   ]
  },
  {
   "cell_type": "markdown",
   "id": "ba03137b660668f4",
   "metadata": {},
   "source": [
    "## Fit for systematic errors"
   ]
  },
  {
   "cell_type": "code",
   "execution_count": 37,
   "id": "7f8a16342c9d9d1d",
   "metadata": {
    "ExecuteTime": {
     "end_time": "2023-10-14T22:00:21.926576Z",
     "start_time": "2023-10-14T22:00:21.819476Z"
    }
   },
   "outputs": [
    {
     "data": {
      "text/plain": [
       "Text(0, 0.5, 'delta_gamma')"
      ]
     },
     "execution_count": 37,
     "metadata": {},
     "output_type": "execute_result"
    },
    {
     "data": {
      "image/png": "[encoded data removed]",
      "text/plain": [
       "<Figure size 432x288 with 1 Axes>"
      ]
     },
     "metadata": {
      "needs_background": "light"
     },
     "output_type": "display_data"
    }
   ],
   "source": [
    "delta_gamma = gammas_tan[has_eth] - gammas_eth[has_eth]\n",
    "# delta_gamma_err = np.sqrt(gamma_errs_tan[has_eth]**2)\n",
    "\n",
    "plt.errorbar(\n",
    "    weighted_sns[has_eth],\n",
    "    delta_gamma,\n",
    "    yerr=gamma_errs_tan[has_eth],\n",
    "    ls=\"none\",\n",
    "    marker=\"o\",\n",
    "    color=\"k\",\n",
    "    label=\"This analysis\",\n",
    ")\n",
    "plt.errorbar(\n",
    "    weighted_sns[has_eth] + 5,\n",
    "    delta_gamma,\n",
    "    yerr=gamma_errs_eth[has_eth],\n",
    "    ls=\"none\",\n",
    "    marker=\"o\",\n",
    "    color=\"g\",\n",
    "    label=\"Etherington+22\",\n",
    ")\n",
    "# plt.xscale('log')\n",
    "plt.legend()\n",
    "\n",
    "# add horizontal lines\n",
    "for i in np.arange(-1.2, 0.51, 0.1):\n",
    "    plt.axhline(i, ls=\"--\", color=\"k\", lw=0.5, alpha=0.5)\n",
    "\n",
    "plt.xlabel(\"weighted S/N\")\n",
    "plt.ylabel(\"delta_gamma\")"
   ]
  },
  {
   "cell_type": "code",
   "execution_count": 38,
   "id": "7c07e4c337eb8471",
   "metadata": {
    "ExecuteTime": {
     "end_time": "2023-10-14T22:00:22.008356Z",
     "start_time": "2023-10-14T22:00:21.936423Z"
    }
   },
   "outputs": [
    {
     "data": {
      "text/plain": [
       "Text(0, 0.5, 'abs(delta_gamma) / gamma_err')"
      ]
     },
     "execution_count": 38,
     "metadata": {},
     "output_type": "execute_result"
    },
    {
     "data": {
      "image/png": "[encoded data removed]",
      "text/plain": [
       "<Figure size 432x288 with 1 Axes>"
      ]
     },
     "metadata": {
      "needs_background": "light"
     },
     "output_type": "display_data"
    }
   ],
   "source": [
    "plt.plot(\n",
    "    weighted_sns[has_eth],\n",
    "    np.abs(delta_gamma) / gamma_errs_tan[has_eth],\n",
    "    \"o\",\n",
    "    label=\"This analysis\",\n",
    ")\n",
    "plt.plot(\n",
    "    weighted_sns[has_eth],\n",
    "    np.abs(delta_gamma) / gamma_errs_eth[has_eth],\n",
    "    \"o\",\n",
    "    label=\"Etherington+22\",\n",
    ")\n",
    "plt.legend()\n",
    "plt.xlabel(\"weighted S/N\")\n",
    "plt.ylabel(\"abs(delta_gamma) / gamma_err\")"
   ]
  },
  {
   "cell_type": "code",
   "execution_count": 58,
   "id": "ed80d16485593a26",
   "metadata": {
    "ExecuteTime": {
     "end_time": "2023-10-14T22:00:22.015437Z",
     "start_time": "2023-10-14T22:00:22.011752Z"
    }
   },
   "outputs": [
    {
     "name": "stderr",
     "output_type": "stream",
     "text": [
      "/home/s1/chinyi/.conda/envs/astroconda/lib/python3.7/site-packages/scipy/optimize/_minimize.py:536: RuntimeWarning: Method Nelder-Mead cannot handle constraints nor bounds.\n",
      "  RuntimeWarning)\n"
     ]
    }
   ],
   "source": [
    "max_err = 0.33\n",
    "\n",
    "\n",
    "def sys_err_model(errs, sns, a, s):\n",
    "    sys = s * np.tanh(a / sns)\n",
    "    # sys = max_err * (1 - 1 / (1. + np.exp(- (sns - s) / a)))\n",
    "    # sys = max_err / (1. + sns / a)\n",
    "    return np.sqrt(sys**2 + errs**2)\n",
    "\n",
    "\n",
    "def get_total_err(params):\n",
    "    a_tan = params\n",
    "    s = max_err\n",
    "    sys_tan = sys_err_model(gamma_errs_tan[has_eth], weighted_sns[has_eth], a_tan, s)\n",
    "    sys_eth = sys_err_model(gamma_errs_eth[has_eth], weighted_sns[has_eth], a_tan, s)\n",
    "\n",
    "    return np.sqrt(sys_tan**2 + sys_eth**2)\n",
    "\n",
    "\n",
    "def get_reduced_chi2_minus_1(params):\n",
    "    delta_gamma = gammas_tan[has_eth] - gammas_eth[has_eth]\n",
    "    delta_gamma_err = get_total_err(params)\n",
    "\n",
    "    return np.abs(np.sum((delta_gamma / delta_gamma_err) ** 2) / len(delta_gamma) - 1.0)\n",
    "\n",
    "\n",
    "res = minimize(\n",
    "    get_reduced_chi2_minus_1,\n",
    "    x0=np.array([900]),\n",
    "    bounds=[(0, 1000)],\n",
    "    method=\"Nelder-Mead\",\n",
    ")\n",
    "\n",
    "#res.x, get_reduced_chi2_minus_1(res.x)"
   ]
  },
  {
   "cell_type": "code",
   "execution_count": 61,
   "id": "ce0f10db",
   "metadata": {},
   "outputs": [
    {
     "data": {
      "text/plain": [
       "<function __main__.get_reduced_chi2_minus_1(params)>"
      ]
     },
     "execution_count": 61,
     "metadata": {},
     "output_type": "execute_result"
    }
   ],
   "source": [
    "get_reduced_chi2_minus_1"
   ]
  },
  {
   "cell_type": "code",
   "execution_count": 40,
   "id": "6694bc171179a889",
   "metadata": {
    "ExecuteTime": {
     "end_time": "2023-10-14T22:00:22.018767Z",
     "start_time": "2023-10-14T22:00:22.016043Z"
    }
   },
   "outputs": [
    {
     "data": {
      "text/plain": [
       "3.1063565719691155e-08"
      ]
     },
     "execution_count": 40,
     "metadata": {},
     "output_type": "execute_result"
    }
   ],
   "source": [
    "get_reduced_chi2_minus_1(res.x)"
   ]
  },
  {
   "cell_type": "code",
   "execution_count": 41,
   "id": "bd91d31a1bc53eae",
   "metadata": {
    "ExecuteTime": {
     "end_time": "2023-10-14T22:00:22.158598Z",
     "start_time": "2023-10-14T22:00:22.078005Z"
    }
   },
   "outputs": [
    {
     "data": {
      "text/plain": [
       "Text(0.5, 1.0, 'Systematic error to add')"
      ]
     },
     "execution_count": 41,
     "metadata": {},
     "output_type": "execute_result"
    },
    {
     "data": {
      "image/png": "[encoded data removed]",
      "text/plain": [
       "<Figure size 432x288 with 1 Axes>"
      ]
     },
     "metadata": {
      "needs_background": "light"
     },
     "output_type": "display_data"
    }
   ],
   "source": [
    "sns = np.logspace(0, 3.5, 100)\n",
    "scale = max_err  # res.x[1]\n",
    "\n",
    "tan_systematic = sys_err_model(0, sns, res.x[0], scale)\n",
    "eth_systematic = sys_err_model(0, sns, res.x[0], scale)\n",
    "\n",
    "plt.plot(sns, tan_systematic, label=\"This analysis\", color=\"k\")\n",
    "plt.plot(sns, eth_systematic, label=\"Etherington+22\", color=\"g\")\n",
    "plt.plot(\n",
    "    weighted_sns_all_dinos,\n",
    "    sys_err_model(0, weighted_sns_all_dinos, res.x[0], scale),\n",
    "    \"o\",\n",
    "    color=\"k\",\n",
    ")\n",
    "plt.legend()\n",
    "plt.xlabel(\"weighted S/N\")\n",
    "plt.ylabel(\"systematic error\")\n",
    "plt.title(\"Systematic error to add\")"
   ]
  },
  {
   "cell_type": "code",
   "execution_count": 42,
   "id": "eb332ab76b207b4",
   "metadata": {
    "ExecuteTime": {
     "end_time": "2023-10-14T22:00:22.161345Z",
     "start_time": "2023-10-14T22:00:22.158772Z"
    }
   },
   "outputs": [
    {
     "data": {
      "text/plain": [
       "0.06695033306148176"
      ]
     },
     "execution_count": 42,
     "metadata": {},
     "output_type": "execute_result"
    }
   ],
   "source": [
    "np.min(sys_err_model(0, weighted_sns_all_dinos, res.x[0], max_err))"
   ]
  },
  {
   "cell_type": "code",
   "execution_count": 43,
   "id": "7a81b86fccba6375",
   "metadata": {
    "ExecuteTime": {
     "end_time": "2023-10-14T22:00:22.307066Z",
     "start_time": "2023-10-14T22:00:22.165007Z"
    }
   },
   "outputs": [
    {
     "data": {
      "text/plain": [
       "Text(0, 0.5, 'delta_gamma')"
      ]
     },
     "execution_count": 43,
     "metadata": {},
     "output_type": "execute_result"
    },
    {
     "data": {
      "image/png": "[encoded data removed]",
      "text/plain": [
       "<Figure size 432x288 with 1 Axes>"
      ]
     },
     "metadata": {
      "needs_background": "light"
     },
     "output_type": "display_data"
    }
   ],
   "source": [
    "delta_gamma = gammas_tan[has_eth] - gammas_eth[has_eth]\n",
    "# delta_gamma_err = np.sqrt(gamma_errs_tan[has_eth]**2)\n",
    "\n",
    "scale = max_err  # res.x[2]\n",
    "\n",
    "plt.errorbar(\n",
    "    weighted_sns[has_eth],\n",
    "    delta_gamma,\n",
    "    yerr=sys_err_model(gamma_errs_tan[has_eth], weighted_sns[has_eth], res.x[0], scale),\n",
    "    ls=\"none\",\n",
    "    marker=\"o\",\n",
    "    color=\"k\",\n",
    "    label=\"This analysis\",\n",
    ")\n",
    "\n",
    "plt.errorbar(\n",
    "    weighted_sns[has_eth] * 1.05,\n",
    "    delta_gamma,\n",
    "    yerr=sys_err_model(gamma_errs_eth[has_eth], weighted_sns[has_eth], res.x[0], scale),\n",
    "    ls=\"none\",\n",
    "    marker=\"o\",\n",
    "    color=\"g\",\n",
    "    label=\"Etherington+22\",\n",
    ")\n",
    "plt.xscale(\"log\")\n",
    "plt.title(\"Total uncertainties with systematic\")\n",
    "plt.legend()\n",
    "plt.xlabel(\"weighted S/N\")\n",
    "plt.ylabel(\"delta_gamma\")"
   ]
  },
  {
   "cell_type": "code",
   "execution_count": 44,
   "id": "398e0ae25fce567f",
   "metadata": {
    "ExecuteTime": {
     "end_time": "2023-10-14T22:00:22.516155Z",
     "start_time": "2023-10-14T22:00:22.321531Z"
    }
   },
   "outputs": [
    {
     "data": {
      "image/png": "[encoded data removed]",
      "text/plain": [
       "<Figure size 432x288 with 1 Axes>"
      ]
     },
     "metadata": {
      "needs_background": "light"
     },
     "output_type": "display_data"
    },
    {
     "data": {
      "text/plain": [
       "Text(0.5, 1.0, 'All dinos after inflating error')"
      ]
     },
     "execution_count": 44,
     "metadata": {},
     "output_type": "execute_result"
    },
    {
     "data": {
      "image/png": "[encoded data removed]",
      "text/plain": [
       "<Figure size 432x288 with 1 Axes>"
      ]
     },
     "metadata": {
      "needs_background": "light"
     },
     "output_type": "display_data"
    }
   ],
   "source": [
    "plt.errorbar(\n",
    "    weighted_sns_all_dinos,\n",
    "    np.array(gammas_all_dinos),\n",
    "    yerr=sys_err_model(\n",
    "        np.array(gamma_errs_all_dinos), weighted_sns_all_dinos, res.x[0], scale\n",
    "    ),\n",
    "    ls=\"none\",\n",
    "    marker=\"o\",\n",
    "    color=\"k\",\n",
    ")\n",
    "plt.xlabel(\"weighted S/N\")\n",
    "plt.ylabel(\"gamma\")\n",
    "plt.xscale(\"log\")\n",
    "plt.title(\"All dinos after inflating error\")\n",
    "plt.show()\n",
    "\n",
    "plt.hist(\n",
    "    sys_err_model(\n",
    "        np.array(gamma_errs_all_dinos), weighted_sns_all_dinos, res.x[0], scale\n",
    "    ),\n",
    "    bins=40,\n",
    ")\n",
    "plt.xlabel(\"Total error\")\n",
    "plt.title(\"All dinos after inflating error\")"
   ]
  },
  {
   "cell_type": "code",
   "execution_count": 49,
   "id": "01532f0b",
   "metadata": {},
   "outputs": [
    {
     "data": {
      "text/plain": [
       "array([ 112.22948004,  301.34857949,  838.24621415,  732.24505184,\n",
       "        521.83558655, 1936.39624083,  405.29203537,  405.68442444,\n",
       "       2603.04455578, 1527.75952992, 1236.78259544, 1103.42325931,\n",
       "        631.53093829,  629.49671394,  489.80814452,  422.96760142,\n",
       "       2016.42830802,  365.96659665,  939.45817245, 1109.57675289,\n",
       "       2190.58417593, 1142.19733862,  682.21033751,  339.89457796,\n",
       "       2471.37058373,  705.42510669, 1120.06211244, 1265.14015971,\n",
       "        749.25689658,  431.6874189 , 1128.98293626, 1221.43038317,\n",
       "        775.93095789, 1386.31977501, 1345.25687611,   94.11537867,\n",
       "        328.46847771, 1119.30174905,  804.81981917, 1220.8148121 ,\n",
       "        820.01078593,  429.01429101,  465.66068674, 1038.8295778 ,\n",
       "        245.66666793, 1756.1781038 ,  431.20210712,  189.99584319,\n",
       "       2774.70250459,  269.39039191,  458.03106252,  391.32498691,\n",
       "       1104.47865013,  284.46484025,  237.79213084,  358.8226854 ,\n",
       "        102.85773549,  566.56613185,  111.66845949,  271.48100961,\n",
       "        166.80693414,   72.16043529,  411.18510857,   35.37545347,\n",
       "        321.84898304,  407.69729263,  103.44270958,  150.99877589,\n",
       "        121.01426963,  329.70639093,   95.9949119 ,   77.51031931,\n",
       "        321.85119744,  532.45341818,  219.29650567,  178.32322257,\n",
       "         91.16395355])"
      ]
     },
     "execution_count": 49,
     "metadata": {},
     "output_type": "execute_result"
    }
   ],
   "source": [
    "weighted_sns_all_dinos"
   ]
  },
  {
   "cell_type": "code",
   "execution_count": 50,
   "id": "b6fc9d5f",
   "metadata": {},
   "outputs": [
    {
     "data": {
      "text/plain": [
       "570.8510684967041"
      ]
     },
     "execution_count": 50,
     "metadata": {},
     "output_type": "execute_result"
    }
   ],
   "source": [
    "res.x[0]"
   ]
  },
  {
   "cell_type": "code",
   "execution_count": 51,
   "id": "f493b456",
   "metadata": {},
   "outputs": [
    {
     "data": {
      "text/plain": [
       "0.33"
      ]
     },
     "execution_count": 51,
     "metadata": {},
     "output_type": "execute_result"
    }
   ],
   "source": [
    "scale"
   ]
  },
  {
   "cell_type": "code",
   "execution_count": 45,
   "id": "36fe924b7dff8d55",
   "metadata": {
    "ExecuteTime": {
     "end_time": "2023-10-14T22:00:22.524669Z",
     "start_time": "2023-10-14T22:00:22.521453Z"
    }
   },
   "outputs": [
    {
     "data": {
      "text/html": [
       "<div>\n",
       "<style scoped>\n",
       "    .dataframe tbody tr th:only-of-type {\n",
       "        vertical-align: middle;\n",
       "    }\n",
       "\n",
       "    .dataframe tbody tr th {\n",
       "        vertical-align: top;\n",
       "    }\n",
       "\n",
       "    .dataframe thead th {\n",
       "        text-align: right;\n",
       "    }\n",
       "</style>\n",
       "<table border=\"1\" class=\"dataframe\">\n",
       "  <thead>\n",
       "    <tr style=\"text-align: right;\">\n",
       "      <th></th>\n",
       "      <th>Lens Name</th>\n",
       "      <th>R_Ein</th>\n",
       "      <th>R_Ein E1</th>\n",
       "      <th>R_Ein E2</th>\n",
       "      <th>γ</th>\n",
       "      <th>γ E1</th>\n",
       "      <th>γ E2</th>\n",
       "      <th>gamma_systematic</th>\n",
       "    </tr>\n",
       "  </thead>\n",
       "  <tbody>\n",
       "    <tr>\n",
       "      <th>0</th>\n",
       "      <td>SDSSJ0008-0004</td>\n",
       "      <td>1.225</td>\n",
       "      <td>0.009</td>\n",
       "      <td>0.008</td>\n",
       "      <td>1.75</td>\n",
       "      <td>0.12</td>\n",
       "      <td>0.14</td>\n",
       "      <td>0.329975</td>\n",
       "    </tr>\n",
       "    <tr>\n",
       "      <th>1</th>\n",
       "      <td>SDSSJ0029-0055</td>\n",
       "      <td>0.945</td>\n",
       "      <td>0.003</td>\n",
       "      <td>0.003</td>\n",
       "      <td>2.69</td>\n",
       "      <td>0.05</td>\n",
       "      <td>0.04</td>\n",
       "      <td>0.315397</td>\n",
       "    </tr>\n",
       "    <tr>\n",
       "      <th>2</th>\n",
       "      <td>SDSSJ0037-0942</td>\n",
       "      <td>1.476</td>\n",
       "      <td>0.007</td>\n",
       "      <td>0.010</td>\n",
       "      <td>2.38</td>\n",
       "      <td>0.02</td>\n",
       "      <td>0.02</td>\n",
       "      <td>0.195417</td>\n",
       "    </tr>\n",
       "    <tr>\n",
       "      <th>3</th>\n",
       "      <td>SDSSJ0252+0039</td>\n",
       "      <td>1.028</td>\n",
       "      <td>0.001</td>\n",
       "      <td>0.001</td>\n",
       "      <td>1.55</td>\n",
       "      <td>0.03</td>\n",
       "      <td>0.04</td>\n",
       "      <td>0.215316</td>\n",
       "    </tr>\n",
       "    <tr>\n",
       "      <th>4</th>\n",
       "      <td>SDSSJ0330-0020</td>\n",
       "      <td>1.094</td>\n",
       "      <td>0.003</td>\n",
       "      <td>0.003</td>\n",
       "      <td>2.14</td>\n",
       "      <td>0.01</td>\n",
       "      <td>0.01</td>\n",
       "      <td>0.263442</td>\n",
       "    </tr>\n",
       "    <tr>\n",
       "      <th>...</th>\n",
       "      <td>...</td>\n",
       "      <td>...</td>\n",
       "      <td>...</td>\n",
       "      <td>...</td>\n",
       "      <td>...</td>\n",
       "      <td>...</td>\n",
       "      <td>...</td>\n",
       "      <td>...</td>\n",
       "    </tr>\n",
       "    <tr>\n",
       "      <th>72</th>\n",
       "      <td>SDSSJ1545+2748</td>\n",
       "      <td>1.122</td>\n",
       "      <td>0.009</td>\n",
       "      <td>0.009</td>\n",
       "      <td>1.94</td>\n",
       "      <td>0.03</td>\n",
       "      <td>0.02</td>\n",
       "      <td>0.311523</td>\n",
       "    </tr>\n",
       "    <tr>\n",
       "      <th>73</th>\n",
       "      <td>SDSSJ1601+2138</td>\n",
       "      <td>0.787</td>\n",
       "      <td>0.013</td>\n",
       "      <td>0.013</td>\n",
       "      <td>2.35</td>\n",
       "      <td>0.04</td>\n",
       "      <td>0.05</td>\n",
       "      <td>0.260785</td>\n",
       "    </tr>\n",
       "    <tr>\n",
       "      <th>74</th>\n",
       "      <td>SDSSJ1631+1854</td>\n",
       "      <td>1.629</td>\n",
       "      <td>0.001</td>\n",
       "      <td>0.001</td>\n",
       "      <td>2.07</td>\n",
       "      <td>0.02</td>\n",
       "      <td>0.02</td>\n",
       "      <td>0.326401</td>\n",
       "    </tr>\n",
       "    <tr>\n",
       "      <th>75</th>\n",
       "      <td>SDSSJ2125+0411</td>\n",
       "      <td>1.234</td>\n",
       "      <td>0.003</td>\n",
       "      <td>0.003</td>\n",
       "      <td>1.72</td>\n",
       "      <td>0.01</td>\n",
       "      <td>0.01</td>\n",
       "      <td>0.328908</td>\n",
       "    </tr>\n",
       "    <tr>\n",
       "      <th>76</th>\n",
       "      <td>SDSSJ2303+0037</td>\n",
       "      <td>0.986</td>\n",
       "      <td>0.002</td>\n",
       "      <td>0.005</td>\n",
       "      <td>2.39</td>\n",
       "      <td>0.39</td>\n",
       "      <td>0.08</td>\n",
       "      <td>0.329998</td>\n",
       "    </tr>\n",
       "  </tbody>\n",
       "</table>\n",
       "<p>77 rows × 8 columns</p>\n",
       "</div>"
      ],
      "text/plain": [
       "         Lens Name  R_Ein  R_Ein E1  R_Ein E2     γ  γ E1  γ E2  \\\n",
       "0   SDSSJ0008-0004  1.225     0.009     0.008  1.75  0.12  0.14   \n",
       "1   SDSSJ0029-0055  0.945     0.003     0.003  2.69  0.05  0.04   \n",
       "2   SDSSJ0037-0942  1.476     0.007     0.010  2.38  0.02  0.02   \n",
       "3   SDSSJ0252+0039  1.028     0.001     0.001  1.55  0.03  0.04   \n",
       "4   SDSSJ0330-0020  1.094     0.003     0.003  2.14  0.01  0.01   \n",
       "..             ...    ...       ...       ...   ...   ...   ...   \n",
       "72  SDSSJ1545+2748  1.122     0.009     0.009  1.94  0.03  0.02   \n",
       "73  SDSSJ1601+2138  0.787     0.013     0.013  2.35  0.04  0.05   \n",
       "74  SDSSJ1631+1854  1.629     0.001     0.001  2.07  0.02  0.02   \n",
       "75  SDSSJ2125+0411  1.234     0.003     0.003  1.72  0.01  0.01   \n",
       "76  SDSSJ2303+0037  0.986     0.002     0.005  2.39  0.39  0.08   \n",
       "\n",
       "    gamma_systematic  \n",
       "0           0.329975  \n",
       "1           0.315397  \n",
       "2           0.195417  \n",
       "3           0.215316  \n",
       "4           0.263442  \n",
       "..               ...  \n",
       "72          0.311523  \n",
       "73          0.260785  \n",
       "74          0.326401  \n",
       "75          0.328908  \n",
       "76          0.329998  \n",
       "\n",
       "[77 rows x 8 columns]"
      ]
     },
     "execution_count": 45,
     "metadata": {},
     "output_type": "execute_result"
    }
   ],
   "source": [
    "## save csv with updated errors\n",
    "\n",
    "df_all[\"gamma_systematic\"] = sys_err_model(0, weighted_sns_all_dinos, res.x[0], scale)\n",
    "\n",
    "df_all"
   ]
  },
  {
   "cell_type": "code",
   "execution_count": 46,
   "id": "c2cf9f5760098c1",
   "metadata": {
    "ExecuteTime": {
     "end_time": "2023-10-14T22:00:22.623311Z",
     "start_time": "2023-10-14T22:00:22.532622Z"
    }
   },
   "outputs": [
    {
     "data": {
      "text/plain": [
       "Text(0.5, 1.0, 'All dinos')"
      ]
     },
     "execution_count": 46,
     "metadata": {},
     "output_type": "execute_result"
    },
    {
     "data": {
      "image/png": "[encoded data removed]",
      "text/plain": [
       "<Figure size 432x288 with 1 Axes>"
      ]
     },
     "metadata": {
      "needs_background": "light"
     },
     "output_type": "display_data"
    }
   ],
   "source": [
    "plt.plot(\n",
    "    weighted_sns_all_dinos,\n",
    "    df_all[\"gamma_systematic\"].values,\n",
    "    \"o\",\n",
    ")\n",
    "plt.xlabel(\"weighted S/N\")\n",
    "plt.ylabel(\"systematic error\")\n",
    "plt.title(\"All dinos\")"
   ]
  },
  {
   "cell_type": "code",
   "execution_count": null,
   "id": "25f4c1943f5423ed",
   "metadata": {
    "ExecuteTime": {
     "end_time": "2023-10-14T22:00:22.623950Z",
     "start_time": "2023-10-14T22:00:22.599380Z"
    }
   },
   "outputs": [],
   "source": [
    "df_all.to_csv(\"./DINOS_Lenses_with_systematic.csv\")"
   ]
  },
  {
   "cell_type": "markdown",
   "id": "e8d76237af045840",
   "metadata": {},
   "source": [
    "# make plot"
   ]
  },
  {
   "cell_type": "code",
   "execution_count": 47,
   "id": "81110e40b3d06b3f",
   "metadata": {
    "ExecuteTime": {
     "end_time": "2023-10-14T22:00:23.151103Z",
     "start_time": "2023-10-14T22:00:22.607783Z"
    },
    "scrolled": false
   },
   "outputs": [
    {
     "data": {
      "image/png": "[encoded data removed]",
      "text/plain": [
       "<Figure size 720x240 with 2 Axes>"
      ]
     },
     "metadata": {
      "needs_background": "light"
     },
     "output_type": "display_data"
    }
   ],
   "source": [
    "fig, axes = plt.subplots(1, 2, figsize=(12 / 1.2, 4 / 1.2))\n",
    "\n",
    "stat_err = np.sqrt(gamma_errs_tan[has_eth] ** 2 + gamma_errs_eth[has_eth] ** 2)\n",
    "\n",
    "total_err = np.sqrt(\n",
    "    sys_err_model(gamma_errs_tan[has_eth], weighted_sns[has_eth], res.x[0], scale) ** 2\n",
    "    + sys_err_model(gamma_errs_eth[has_eth], weighted_sns[has_eth], res.x[0], scale)\n",
    "    ** 2\n",
    ")\n",
    "axes[0].errorbar(\n",
    "    weighted_sns[has_eth],\n",
    "    np.abs(delta_gamma),\n",
    "    yerr=total_err,\n",
    "    ls=\"none\",\n",
    "    marker=\"o\",\n",
    "    elinewidth=1.0,\n",
    "    ecolor=\"grey\",\n",
    "    color=\"#386cb0\",\n",
    "    markersize=3.0,\n",
    ")\n",
    "\n",
    "axes[0].errorbar(\n",
    "    weighted_sns[has_eth],\n",
    "    np.abs(delta_gamma),\n",
    "    yerr=stat_err,\n",
    "    ls=\"none\",\n",
    "    marker=\"o\",\n",
    "    elinewidth=1.0,\n",
    "    color=\"#386cb0\",\n",
    "    markersize=3.0,\n",
    "    capsize=2,\n",
    ")\n",
    "\n",
    "axes[0].plot(\n",
    "    sns, tan_systematic, label=r\"$\\sigma_{\\gamma, \\rm sys} (\\mathcal{I})$\", color=\"k\"\n",
    ")\n",
    "axes[0].set_xlim(20, 700)\n",
    "axes[0].axhline(0.0, ls=\"--\", color=\"k\", lw=1, alpha=0.5)\n",
    "axes[0].set_xscale(\"log\")\n",
    "axes[0].set_xlabel(r\"lensing information, $\\mathcal{I}$\")\n",
    "axes[0].set_ylabel(r\"$| \\gamma^{\\rm ours} - \\gamma^{\\rm Etherington+22}$ |\")\n",
    "axes[0].legend()\n",
    "axes[0].set_xlim(60, 3000)\n",
    "\n",
    "axes[1].errorbar(\n",
    "    weighted_sns_all_dinos,\n",
    "    np.array(gammas_all_dinos),\n",
    "    yerr=sys_err_model(\n",
    "        np.array(gamma_errs_all_dinos), weighted_sns_all_dinos, res.x[0], scale\n",
    "    ),\n",
    "    ls=\"none\",\n",
    "    marker=\"o\",\n",
    "    elinewidth=1.0,\n",
    "    ecolor=\"grey\",\n",
    "    markersize=3.0,\n",
    "    color=\"#386cb0\",\n",
    ")\n",
    "\n",
    "axes[1].errorbar(\n",
    "    weighted_sns_all_dinos,\n",
    "    np.array(gammas_all_dinos),\n",
    "    yerr=np.array(gamma_errs_all_dinos),\n",
    "    ls=\"none\",\n",
    "    elinewidth=1.0,\n",
    "    marker=\"o\",\n",
    "    markersize=3.0,\n",
    "    color=\"#386cb0\",\n",
    "    capsize=2,\n",
    ")\n",
    "\n",
    "axes[1].set_xscale(\"log\")\n",
    "axes[1].set_xlabel(r\"lensing information, $\\mathcal{I}$\")\n",
    "axes[1].set_ylabel(r\"$\\gamma^{\\rm ours}$\")\n",
    "axes[1].set_xlim(60, 3500)\n",
    "\n",
    "fig.savefig(\"systematic error.pdf\", bbox_inches=\"tight\")"
   ]
  },
  {
   "cell_type": "code",
   "execution_count": null,
   "id": "f4f3e5cc",
   "metadata": {},
   "outputs": [],
   "source": []
  }
 ],
 "metadata": {
  "kernelspec": {
   "display_name": "Python 3",
   "language": "python",
   "name": "python3"
  },
  "language_info": {
   "codemirror_mode": {
    "name": "ipython",
    "version": 3
   },
   "file_extension": ".py",
   "mimetype": "text/x-python",
   "name": "python",
   "nbconvert_exporter": "python",
   "pygments_lexer": "ipython3",
   "version": "3.7.10"
  }
 },
 "nbformat": 4,
 "nbformat_minor": 5
}
