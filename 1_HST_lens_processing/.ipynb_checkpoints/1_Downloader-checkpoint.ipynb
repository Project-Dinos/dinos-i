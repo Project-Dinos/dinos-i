{
 "cells": [
  {
   "cell_type": "code",
   "execution_count": 1,
   "id": "bfd27475",
   "metadata": {},
   "outputs": [],
   "source": [
    "import numpy as np\n",
    "import pandas as pd\n",
    "\n",
    "import glob\n",
    "import os\n",
    "import shutil\n",
    "\n",
    "from astroquery.mast import Observations\n",
    "\n",
    "\n",
    "Main_dir = '../lenses/'"
   ]
  },
  {
   "cell_type": "code",
   "execution_count": 2,
   "id": "0eefe42a",
   "metadata": {},
   "outputs": [],
   "source": [
    "def MAST_Downloader(lens_name, target_name,band,camera,proposal_id_no):\n",
    "    \"\"\"\n",
    "    Lens Name : User Intended Name for the Lenses (For the folder names)\n",
    "    Target Name : Target Name of the Lens in the MAST Archive\n",
    "    Band: Filter band of the HST Image\n",
    "    Camera: Camera of the HST IMage\n",
    "    Proposal ID No : Proposal ID of the Image\n",
    "    \n",
    "    \"\"\"\n",
    "\n",
    "    download_dir = os.path.join(Main_dir, '{}/{}_{}/raw_data/'.format(lens_name,band,camera))\n",
    "    \n",
    "    \n",
    "\n",
    "    obs_table = Observations.query_criteria(proposal_id=proposal_id_no, target_name=target_name, \n",
    "                                        filters=band, obstype='all')\n",
    "    \n",
    "    if band == \"F160W\":\n",
    "        file_format=['FLT']  # Different file format for IR images\n",
    "    else:\n",
    "        file_format=['FLC']\n",
    "    \n",
    "\n",
    "    download_tab = Observations.download_products(obs_table['obsid'], mrp_only=False, \n",
    "                                              download_dir=download_dir,\n",
    "                                              productSubGroupDescription=file_format)\n",
    "                                                # ['FLC', 'FLT','C0F'])\n",
    "\n",
    "    science_files = glob.glob(os.path.join(os.curdir, download_dir, 'mastDownload', 'HST', '*', '*fits'))\n",
    "\n",
    "    for im in science_files:\n",
    "        shutil.copy2(im, download_dir)\n",
    "\n",
    "    # Remove mastDownload folder   \n",
    "    shutil.rmtree(download_dir + 'mastDownload')\n",
    "\n",
    "    # Remove HST files\n",
    "    fileList = glob.glob(download_dir+'/hst*')\n",
    "\n",
    "    for filePath in fileList:   # Iterate over the list of filepaths & remove each file.\n",
    "        try:\n",
    "            os.remove(filePath)\n",
    "        except:\n",
    "            print(\"Error while deleting file : \", filePath)\n"
   ]
  },
  {
   "cell_type": "code",
   "execution_count": 3,
   "id": "734738f8",
   "metadata": {
    "scrolled": false
   },
   "outputs": [
    {
     "name": "stderr",
     "output_type": "stream",
     "text": [
      "WARNING: AstropyDeprecationWarning: Criteria obstype argument will disappear in May 2019. Criteria 'obstype' is now 'intentType', options are 'science' or 'calibration', if intentType is not supplied all observations (science and calibration) are returned. [astroquery.mast.core]\n"
     ]
    },
    {
     "name": "stdout",
     "output_type": "stream",
     "text": [
      "Downloading URL https://mast.stsci.edu/api/v0.1/Download/file?uri=mast:HST/product/hst_12898_23_wfc3_uvis_f390w_ibzi23pu_flc.fits to ../lenses/SDSSJ1627-0053/F390W_WFC3/raw_data/mastDownload/HST/hst_12898_23_wfc3_uvis_f390w_ibzi23pu/hst_12898_23_wfc3_uvis_f390w_ibzi23pu_flc.fits ... [Done]\n",
      "Downloading URL https://mast.stsci.edu/api/v0.1/Download/file?uri=mast:HST/product/hst_12898_23_wfc3_uvis_f390w_ibzi23pv_flc.fits to ../lenses/SDSSJ1627-0053/F390W_WFC3/raw_data/mastDownload/HST/hst_12898_23_wfc3_uvis_f390w_ibzi23pv/hst_12898_23_wfc3_uvis_f390w_ibzi23pv_flc.fits ... [Done]\n",
      "Downloading URL https://mast.stsci.edu/api/v0.1/Download/file?uri=mast:HST/product/hst_12898_23_wfc3_uvis_f390w_ibzi23px_flc.fits to ../lenses/SDSSJ1627-0053/F390W_WFC3/raw_data/mastDownload/HST/hst_12898_23_wfc3_uvis_f390w_ibzi23px/hst_12898_23_wfc3_uvis_f390w_ibzi23px_flc.fits ... [Done]\n",
      "Downloading URL https://mast.stsci.edu/api/v0.1/Download/file?uri=mast:HST/product/hst_12898_23_wfc3_uvis_f390w_ibzi23pz_flc.fits to ../lenses/SDSSJ1627-0053/F390W_WFC3/raw_data/mastDownload/HST/hst_12898_23_wfc3_uvis_f390w_ibzi23pz/hst_12898_23_wfc3_uvis_f390w_ibzi23pz_flc.fits ... [Done]\n",
      "Downloading URL https://mast.stsci.edu/api/v0.1/Download/file?uri=mast:HST/product/ibzi23puq_flc.fits to ../lenses/SDSSJ1627-0053/F390W_WFC3/raw_data/mastDownload/HST/ibzi23puq/ibzi23puq_flc.fits ... [Done]\n",
      "Downloading URL https://mast.stsci.edu/api/v0.1/Download/file?uri=mast:HST/product/ibzi23pvq_flc.fits to ../lenses/SDSSJ1627-0053/F390W_WFC3/raw_data/mastDownload/HST/ibzi23pvq/ibzi23pvq_flc.fits ... [Done]\n",
      "Downloading URL https://mast.stsci.edu/api/v0.1/Download/file?uri=mast:HST/product/ibzi23pxq_flc.fits to ../lenses/SDSSJ1627-0053/F390W_WFC3/raw_data/mastDownload/HST/ibzi23pxq/ibzi23pxq_flc.fits ... [Done]\n",
      "Downloading URL https://mast.stsci.edu/api/v0.1/Download/file?uri=mast:HST/product/ibzi23pzq_flc.fits to ../lenses/SDSSJ1627-0053/F390W_WFC3/raw_data/mastDownload/HST/ibzi23pzq/ibzi23pzq_flc.fits ... [Done]\n",
      "Downloading URL https://mast.stsci.edu/api/v0.1/Download/file?uri=mast:HST/product/hst_12898_22_wfc3_uvis_f390w_ibzi22pn_flc.fits to ../lenses/SDSSJ1627-0053/F390W_WFC3/raw_data/mastDownload/HST/hst_12898_22_wfc3_uvis_f390w_ibzi22pn/hst_12898_22_wfc3_uvis_f390w_ibzi22pn_flc.fits ... [Done]\n",
      "Downloading URL https://mast.stsci.edu/api/v0.1/Download/file?uri=mast:HST/product/hst_12898_22_wfc3_uvis_f390w_ibzi22po_flc.fits to ../lenses/SDSSJ1627-0053/F390W_WFC3/raw_data/mastDownload/HST/hst_12898_22_wfc3_uvis_f390w_ibzi22po/hst_12898_22_wfc3_uvis_f390w_ibzi22po_flc.fits ... [Done]\n",
      "Downloading URL https://mast.stsci.edu/api/v0.1/Download/file?uri=mast:HST/product/hst_12898_22_wfc3_uvis_f390w_ibzi22pq_flc.fits to ../lenses/SDSSJ1627-0053/F390W_WFC3/raw_data/mastDownload/HST/hst_12898_22_wfc3_uvis_f390w_ibzi22pq/hst_12898_22_wfc3_uvis_f390w_ibzi22pq_flc.fits ... [Done]\n",
      "Downloading URL https://mast.stsci.edu/api/v0.1/Download/file?uri=mast:HST/product/hst_12898_22_wfc3_uvis_f390w_ibzi22ps_flc.fits to ../lenses/SDSSJ1627-0053/F390W_WFC3/raw_data/mastDownload/HST/hst_12898_22_wfc3_uvis_f390w_ibzi22ps/hst_12898_22_wfc3_uvis_f390w_ibzi22ps_flc.fits ... [Done]\n",
      "Downloading URL https://mast.stsci.edu/api/v0.1/Download/file?uri=mast:HST/product/ibzi22pnq_flc.fits to ../lenses/SDSSJ1627-0053/F390W_WFC3/raw_data/mastDownload/HST/ibzi22pnq/ibzi22pnq_flc.fits ... [Done]\n",
      "Downloading URL https://mast.stsci.edu/api/v0.1/Download/file?uri=mast:HST/product/ibzi22poq_flc.fits to ../lenses/SDSSJ1627-0053/F390W_WFC3/raw_data/mastDownload/HST/ibzi22poq/ibzi22poq_flc.fits ... [Done]\n",
      "Downloading URL https://mast.stsci.edu/api/v0.1/Download/file?uri=mast:HST/product/ibzi22pqq_flc.fits to ../lenses/SDSSJ1627-0053/F390W_WFC3/raw_data/mastDownload/HST/ibzi22pqq/ibzi22pqq_flc.fits ... [Done]\n",
      "Downloading URL https://mast.stsci.edu/api/v0.1/Download/file?uri=mast:HST/product/ibzi22psq_flc.fits to ../lenses/SDSSJ1627-0053/F390W_WFC3/raw_data/mastDownload/HST/ibzi22psq/ibzi22psq_flc.fits ... [Done]\n",
      "Downloading URL https://mast.stsci.edu/api/v0.1/Download/file?uri=mast:HST/product/hst_12898_21_wfc3_uvis_f390w_ibzi21pg_flc.fits to ../lenses/SDSSJ1627-0053/F390W_WFC3/raw_data/mastDownload/HST/hst_12898_21_wfc3_uvis_f390w_ibzi21pg/hst_12898_21_wfc3_uvis_f390w_ibzi21pg_flc.fits ... [Done]\n",
      "Downloading URL https://mast.stsci.edu/api/v0.1/Download/file?uri=mast:HST/product/hst_12898_21_wfc3_uvis_f390w_ibzi21ph_flc.fits to ../lenses/SDSSJ1627-0053/F390W_WFC3/raw_data/mastDownload/HST/hst_12898_21_wfc3_uvis_f390w_ibzi21ph/hst_12898_21_wfc3_uvis_f390w_ibzi21ph_flc.fits ... [Done]\n",
      "Downloading URL https://mast.stsci.edu/api/v0.1/Download/file?uri=mast:HST/product/hst_12898_21_wfc3_uvis_f390w_ibzi21pj_flc.fits to ../lenses/SDSSJ1627-0053/F390W_WFC3/raw_data/mastDownload/HST/hst_12898_21_wfc3_uvis_f390w_ibzi21pj/hst_12898_21_wfc3_uvis_f390w_ibzi21pj_flc.fits ... [Done]\n",
      "Downloading URL https://mast.stsci.edu/api/v0.1/Download/file?uri=mast:HST/product/hst_12898_21_wfc3_uvis_f390w_ibzi21pl_flc.fits to ../lenses/SDSSJ1627-0053/F390W_WFC3/raw_data/mastDownload/HST/hst_12898_21_wfc3_uvis_f390w_ibzi21pl/hst_12898_21_wfc3_uvis_f390w_ibzi21pl_flc.fits ... [Done]\n",
      "Downloading URL https://mast.stsci.edu/api/v0.1/Download/file?uri=mast:HST/product/ibzi21pgq_flc.fits to ../lenses/SDSSJ1627-0053/F390W_WFC3/raw_data/mastDownload/HST/ibzi21pgq/ibzi21pgq_flc.fits ... [Done]\n",
      "Downloading URL https://mast.stsci.edu/api/v0.1/Download/file?uri=mast:HST/product/ibzi21phq_flc.fits to ../lenses/SDSSJ1627-0053/F390W_WFC3/raw_data/mastDownload/HST/ibzi21phq/ibzi21phq_flc.fits ... [Done]\n",
      "Downloading URL https://mast.stsci.edu/api/v0.1/Download/file?uri=mast:HST/product/ibzi21pjq_flc.fits to ../lenses/SDSSJ1627-0053/F390W_WFC3/raw_data/mastDownload/HST/ibzi21pjq/ibzi21pjq_flc.fits ... [Done]\n",
      "Downloading URL https://mast.stsci.edu/api/v0.1/Download/file?uri=mast:HST/product/ibzi21plq_flc.fits to ../lenses/SDSSJ1627-0053/F390W_WFC3/raw_data/mastDownload/HST/ibzi21plq/ibzi21plq_flc.fits ... [Done]\n",
      "INFO: Found cached file ../lenses/SDSSJ1627-0053/F390W_WFC3/raw_data/mastDownload/HST/hst_12898_22_wfc3_uvis_f390w_ibzi22pn/hst_12898_22_wfc3_uvis_f390w_ibzi22pn_flc.fits with expected size 169148160. [astroquery.query]\n",
      "INFO: Found cached file ../lenses/SDSSJ1627-0053/F390W_WFC3/raw_data/mastDownload/HST/hst_12898_22_wfc3_uvis_f390w_ibzi22po/hst_12898_22_wfc3_uvis_f390w_ibzi22po_flc.fits with expected size 169159680. [astroquery.query]\n",
      "INFO: Found cached file ../lenses/SDSSJ1627-0053/F390W_WFC3/raw_data/mastDownload/HST/hst_12898_22_wfc3_uvis_f390w_ibzi22pq/hst_12898_22_wfc3_uvis_f390w_ibzi22pq_flc.fits with expected size 169159680. [astroquery.query]\n",
      "INFO: Found cached file ../lenses/SDSSJ1627-0053/F390W_WFC3/raw_data/mastDownload/HST/hst_12898_22_wfc3_uvis_f390w_ibzi22ps/hst_12898_22_wfc3_uvis_f390w_ibzi22ps_flc.fits with expected size 169159680. [astroquery.query]\n",
      "INFO: Found cached file ../lenses/SDSSJ1627-0053/F390W_WFC3/raw_data/mastDownload/HST/ibzi22pnq/ibzi22pnq_flc.fits with expected size 169027200. [astroquery.query]\n",
      "INFO: Found cached file ../lenses/SDSSJ1627-0053/F390W_WFC3/raw_data/mastDownload/HST/ibzi22poq/ibzi22poq_flc.fits with expected size 169038720. [astroquery.query]\n",
      "INFO: Found cached file ../lenses/SDSSJ1627-0053/F390W_WFC3/raw_data/mastDownload/HST/ibzi22pqq/ibzi22pqq_flc.fits with expected size 169038720. [astroquery.query]\n",
      "INFO: Found cached file ../lenses/SDSSJ1627-0053/F390W_WFC3/raw_data/mastDownload/HST/ibzi22psq/ibzi22psq_flc.fits with expected size 169038720. [astroquery.query]\n",
      "INFO: Found cached file ../lenses/SDSSJ1627-0053/F390W_WFC3/raw_data/mastDownload/HST/hst_12898_21_wfc3_uvis_f390w_ibzi21pg/hst_12898_21_wfc3_uvis_f390w_ibzi21pg_flc.fits with expected size 169142400. [astroquery.query]\n",
      "INFO: Found cached file ../lenses/SDSSJ1627-0053/F390W_WFC3/raw_data/mastDownload/HST/hst_12898_21_wfc3_uvis_f390w_ibzi21ph/hst_12898_21_wfc3_uvis_f390w_ibzi21ph_flc.fits with expected size 169142400. [astroquery.query]\n",
      "INFO: Found cached file ../lenses/SDSSJ1627-0053/F390W_WFC3/raw_data/mastDownload/HST/hst_12898_21_wfc3_uvis_f390w_ibzi21pj/hst_12898_21_wfc3_uvis_f390w_ibzi21pj_flc.fits with expected size 169142400. [astroquery.query]\n",
      "INFO: Found cached file ../lenses/SDSSJ1627-0053/F390W_WFC3/raw_data/mastDownload/HST/hst_12898_21_wfc3_uvis_f390w_ibzi21pl/hst_12898_21_wfc3_uvis_f390w_ibzi21pl_flc.fits with expected size 169142400. [astroquery.query]\n",
      "INFO: Found cached file ../lenses/SDSSJ1627-0053/F390W_WFC3/raw_data/mastDownload/HST/ibzi21pgq/ibzi21pgq_flc.fits with expected size 169027200. [astroquery.query]\n"
     ]
    },
    {
     "name": "stdout",
     "output_type": "stream",
     "text": [
      "INFO: Found cached file ../lenses/SDSSJ1627-0053/F390W_WFC3/raw_data/mastDownload/HST/ibzi21phq/ibzi21phq_flc.fits with expected size 169027200. [astroquery.query]\n",
      "INFO: Found cached file ../lenses/SDSSJ1627-0053/F390W_WFC3/raw_data/mastDownload/HST/ibzi21pjq/ibzi21pjq_flc.fits with expected size 169027200. [astroquery.query]\n",
      "INFO: Found cached file ../lenses/SDSSJ1627-0053/F390W_WFC3/raw_data/mastDownload/HST/ibzi21plq/ibzi21plq_flc.fits with expected size 169027200. [astroquery.query]\n",
      "INFO: Found cached file ../lenses/SDSSJ1627-0053/F390W_WFC3/raw_data/mastDownload/HST/hst_12898_23_wfc3_uvis_f390w_ibzi23pu/hst_12898_23_wfc3_uvis_f390w_ibzi23pu_flc.fits with expected size 169142400. [astroquery.query]\n",
      "INFO: Found cached file ../lenses/SDSSJ1627-0053/F390W_WFC3/raw_data/mastDownload/HST/hst_12898_23_wfc3_uvis_f390w_ibzi23pv/hst_12898_23_wfc3_uvis_f390w_ibzi23pv_flc.fits with expected size 169142400. [astroquery.query]\n",
      "INFO: Found cached file ../lenses/SDSSJ1627-0053/F390W_WFC3/raw_data/mastDownload/HST/hst_12898_23_wfc3_uvis_f390w_ibzi23px/hst_12898_23_wfc3_uvis_f390w_ibzi23px_flc.fits with expected size 169142400. [astroquery.query]\n",
      "INFO: Found cached file ../lenses/SDSSJ1627-0053/F390W_WFC3/raw_data/mastDownload/HST/hst_12898_23_wfc3_uvis_f390w_ibzi23pz/hst_12898_23_wfc3_uvis_f390w_ibzi23pz_flc.fits with expected size 169142400. [astroquery.query]\n",
      "INFO: Found cached file ../lenses/SDSSJ1627-0053/F390W_WFC3/raw_data/mastDownload/HST/ibzi23puq/ibzi23puq_flc.fits with expected size 169027200. [astroquery.query]\n",
      "INFO: Found cached file ../lenses/SDSSJ1627-0053/F390W_WFC3/raw_data/mastDownload/HST/ibzi23pvq/ibzi23pvq_flc.fits with expected size 169027200. [astroquery.query]\n",
      "INFO: Found cached file ../lenses/SDSSJ1627-0053/F390W_WFC3/raw_data/mastDownload/HST/ibzi23pxq/ibzi23pxq_flc.fits with expected size 169027200. [astroquery.query]\n",
      "INFO: Found cached file ../lenses/SDSSJ1627-0053/F390W_WFC3/raw_data/mastDownload/HST/ibzi23pzq/ibzi23pzq_flc.fits with expected size 169027200. [astroquery.query]\n",
      "INFO: Found cached file ../lenses/SDSSJ1627-0053/F390W_WFC3/raw_data/mastDownload/HST/ibzi21pgq/ibzi21pgq_flc.fits with expected size 169027200. [astroquery.query]\n",
      "INFO: Found cached file ../lenses/SDSSJ1627-0053/F390W_WFC3/raw_data/mastDownload/HST/ibzi21phq/ibzi21phq_flc.fits with expected size 169027200. [astroquery.query]\n",
      "INFO: Found cached file ../lenses/SDSSJ1627-0053/F390W_WFC3/raw_data/mastDownload/HST/ibzi21pjq/ibzi21pjq_flc.fits with expected size 169027200. [astroquery.query]\n",
      "INFO: Found cached file ../lenses/SDSSJ1627-0053/F390W_WFC3/raw_data/mastDownload/HST/ibzi21plq/ibzi21plq_flc.fits with expected size 169027200. [astroquery.query]\n",
      "INFO: Found cached file ../lenses/SDSSJ1627-0053/F390W_WFC3/raw_data/mastDownload/HST/ibzi22pnq/ibzi22pnq_flc.fits with expected size 169027200. [astroquery.query]\n",
      "INFO: Found cached file ../lenses/SDSSJ1627-0053/F390W_WFC3/raw_data/mastDownload/HST/ibzi22poq/ibzi22poq_flc.fits with expected size 169038720. [astroquery.query]\n",
      "INFO: Found cached file ../lenses/SDSSJ1627-0053/F390W_WFC3/raw_data/mastDownload/HST/ibzi22pqq/ibzi22pqq_flc.fits with expected size 169038720. [astroquery.query]\n",
      "INFO: Found cached file ../lenses/SDSSJ1627-0053/F390W_WFC3/raw_data/mastDownload/HST/ibzi22psq/ibzi22psq_flc.fits with expected size 169038720. [astroquery.query]\n",
      "INFO: Found cached file ../lenses/SDSSJ1627-0053/F390W_WFC3/raw_data/mastDownload/HST/ibzi23puq/ibzi23puq_flc.fits with expected size 169027200. [astroquery.query]\n",
      "INFO: Found cached file ../lenses/SDSSJ1627-0053/F390W_WFC3/raw_data/mastDownload/HST/ibzi23pvq/ibzi23pvq_flc.fits with expected size 169027200. [astroquery.query]\n",
      "INFO: Found cached file ../lenses/SDSSJ1627-0053/F390W_WFC3/raw_data/mastDownload/HST/ibzi23pxq/ibzi23pxq_flc.fits with expected size 169027200. [astroquery.query]\n",
      "INFO: Found cached file ../lenses/SDSSJ1627-0053/F390W_WFC3/raw_data/mastDownload/HST/ibzi23pzq/ibzi23pzq_flc.fits with expected size 169027200. [astroquery.query]\n",
      "INFO: Found cached file ../lenses/SDSSJ1627-0053/F390W_WFC3/raw_data/mastDownload/HST/ibzi21pgq/ibzi21pgq_flc.fits with expected size 169027200. [astroquery.query]\n",
      "INFO: Found cached file ../lenses/SDSSJ1627-0053/F390W_WFC3/raw_data/mastDownload/HST/ibzi21phq/ibzi21phq_flc.fits with expected size 169027200. [astroquery.query]\n",
      "INFO: Found cached file ../lenses/SDSSJ1627-0053/F390W_WFC3/raw_data/mastDownload/HST/ibzi21pjq/ibzi21pjq_flc.fits with expected size 169027200. [astroquery.query]\n",
      "INFO: Found cached file ../lenses/SDSSJ1627-0053/F390W_WFC3/raw_data/mastDownload/HST/ibzi21plq/ibzi21plq_flc.fits with expected size 169027200. [astroquery.query]\n",
      "INFO: Found cached file ../lenses/SDSSJ1627-0053/F390W_WFC3/raw_data/mastDownload/HST/ibzi22pnq/ibzi22pnq_flc.fits with expected size 169027200. [astroquery.query]\n",
      "INFO: Found cached file ../lenses/SDSSJ1627-0053/F390W_WFC3/raw_data/mastDownload/HST/ibzi22poq/ibzi22poq_flc.fits with expected size 169038720. [astroquery.query]\n",
      "INFO: Found cached file ../lenses/SDSSJ1627-0053/F390W_WFC3/raw_data/mastDownload/HST/ibzi22pqq/ibzi22pqq_flc.fits with expected size 169038720. [astroquery.query]\n",
      "INFO: Found cached file ../lenses/SDSSJ1627-0053/F390W_WFC3/raw_data/mastDownload/HST/ibzi22psq/ibzi22psq_flc.fits with expected size 169038720. [astroquery.query]\n"
     ]
    },
    {
     "name": "stderr",
     "output_type": "stream",
     "text": [
      "WARNING: AstropyDeprecationWarning: Criteria obstype argument will disappear in May 2019. Criteria 'obstype' is now 'intentType', options are 'science' or 'calibration', if intentType is not supplied all observations (science and calibration) are returned. [astroquery.mast.core]\n"
     ]
    },
    {
     "name": "stdout",
     "output_type": "stream",
     "text": [
      "Downloading URL https://mast.stsci.edu/api/v0.1/Download/file?uri=mast:HST/product/hst_10494_01_acs_wfc_f555w_j9c701yl_flc.fits to ../lenses/SDSSJ1627-0053/F555W_ACS/raw_data/mastDownload/HST/hst_10494_01_acs_wfc_f555w_j9c701yl/hst_10494_01_acs_wfc_f555w_j9c701yl_flc.fits ... [Done]\n",
      "Downloading URL https://mast.stsci.edu/api/v0.1/Download/file?uri=mast:HST/product/hst_10494_01_acs_wfc_f555w_j9c701ym_flc.fits to ../lenses/SDSSJ1627-0053/F555W_ACS/raw_data/mastDownload/HST/hst_10494_01_acs_wfc_f555w_j9c701ym/hst_10494_01_acs_wfc_f555w_j9c701ym_flc.fits ... [Done]\n",
      "Downloading URL https://mast.stsci.edu/api/v0.1/Download/file?uri=mast:HST/product/hst_10494_01_acs_wfc_f555w_j9c701yo_flc.fits to ../lenses/SDSSJ1627-0053/F555W_ACS/raw_data/mastDownload/HST/hst_10494_01_acs_wfc_f555w_j9c701yo/hst_10494_01_acs_wfc_f555w_j9c701yo_flc.fits ... [Done]\n",
      "Downloading URL https://mast.stsci.edu/api/v0.1/Download/file?uri=mast:HST/product/hst_10494_01_acs_wfc_f555w_j9c701yq_flc.fits to ../lenses/SDSSJ1627-0053/F555W_ACS/raw_data/mastDownload/HST/hst_10494_01_acs_wfc_f555w_j9c701yq/hst_10494_01_acs_wfc_f555w_j9c701yq_flc.fits ... [Done]\n",
      "Downloading URL https://mast.stsci.edu/api/v0.1/Download/file?uri=mast:HST/product/j9c701ylq_flc.fits to ../lenses/SDSSJ1627-0053/F555W_ACS/raw_data/mastDownload/HST/j9c701ylq/j9c701ylq_flc.fits ... [Done]\n",
      "Downloading URL https://mast.stsci.edu/api/v0.1/Download/file?uri=mast:HST/product/j9c701ymq_flc.fits to ../lenses/SDSSJ1627-0053/F555W_ACS/raw_data/mastDownload/HST/j9c701ymq/j9c701ymq_flc.fits ... [Done]\n",
      "Downloading URL https://mast.stsci.edu/api/v0.1/Download/file?uri=mast:HST/product/j9c701yoq_flc.fits to ../lenses/SDSSJ1627-0053/F555W_ACS/raw_data/mastDownload/HST/j9c701yoq/j9c701yoq_flc.fits ... [Done]\n",
      "Downloading URL https://mast.stsci.edu/api/v0.1/Download/file?uri=mast:HST/product/j9c701yqq_flc.fits to ../lenses/SDSSJ1627-0053/F555W_ACS/raw_data/mastDownload/HST/j9c701yqq/j9c701yqq_flc.fits ... [Done]\n",
      "INFO: Found cached file ../lenses/SDSSJ1627-0053/F555W_ACS/raw_data/mastDownload/HST/hst_10494_01_acs_wfc_f555w_j9c701yl/hst_10494_01_acs_wfc_f555w_j9c701yl_flc.fits with expected size 168448320. [astroquery.query]\n",
      "INFO: Found cached file ../lenses/SDSSJ1627-0053/F555W_ACS/raw_data/mastDownload/HST/hst_10494_01_acs_wfc_f555w_j9c701ym/hst_10494_01_acs_wfc_f555w_j9c701ym_flc.fits with expected size 168500160. [astroquery.query]\n",
      "INFO: Found cached file ../lenses/SDSSJ1627-0053/F555W_ACS/raw_data/mastDownload/HST/hst_10494_01_acs_wfc_f555w_j9c701yo/hst_10494_01_acs_wfc_f555w_j9c701yo_flc.fits with expected size 168500160. [astroquery.query]\n",
      "INFO: Found cached file ../lenses/SDSSJ1627-0053/F555W_ACS/raw_data/mastDownload/HST/hst_10494_01_acs_wfc_f555w_j9c701yq/hst_10494_01_acs_wfc_f555w_j9c701yq_flc.fits with expected size 168448320. [astroquery.query]\n",
      "INFO: Found cached file ../lenses/SDSSJ1627-0053/F555W_ACS/raw_data/mastDownload/HST/j9c701ylq/j9c701ylq_flc.fits with expected size 168327360. [astroquery.query]\n",
      "INFO: Found cached file ../lenses/SDSSJ1627-0053/F555W_ACS/raw_data/mastDownload/HST/j9c701ymq/j9c701ymq_flc.fits with expected size 168379200. [astroquery.query]\n",
      "INFO: Found cached file ../lenses/SDSSJ1627-0053/F555W_ACS/raw_data/mastDownload/HST/j9c701yoq/j9c701yoq_flc.fits with expected size 168379200. [astroquery.query]\n",
      "INFO: Found cached file ../lenses/SDSSJ1627-0053/F555W_ACS/raw_data/mastDownload/HST/j9c701yqq/j9c701yqq_flc.fits with expected size 168327360. [astroquery.query]\n",
      "INFO: Found cached file ../lenses/SDSSJ1627-0053/F555W_ACS/raw_data/mastDownload/HST/j9c701ylq/j9c701ylq_flc.fits with expected size 168327360. [astroquery.query]\n",
      "INFO: Found cached file ../lenses/SDSSJ1627-0053/F555W_ACS/raw_data/mastDownload/HST/j9c701ymq/j9c701ymq_flc.fits with expected size 168379200. [astroquery.query]\n",
      "INFO: Found cached file ../lenses/SDSSJ1627-0053/F555W_ACS/raw_data/mastDownload/HST/j9c701yoq/j9c701yoq_flc.fits with expected size 168379200. [astroquery.query]\n",
      "INFO: Found cached file ../lenses/SDSSJ1627-0053/F555W_ACS/raw_data/mastDownload/HST/j9c701yqq/j9c701yqq_flc.fits with expected size 168327360. [astroquery.query]\n"
     ]
    },
    {
     "name": "stderr",
     "output_type": "stream",
     "text": [
      "WARNING: AstropyDeprecationWarning: Criteria obstype argument will disappear in May 2019. Criteria 'obstype' is now 'intentType', options are 'science' or 'calibration', if intentType is not supplied all observations (science and calibration) are returned. [astroquery.mast.core]\n"
     ]
    },
    {
     "name": "stdout",
     "output_type": "stream",
     "text": [
      "Downloading URL https://mast.stsci.edu/api/v0.1/Download/file?uri=mast:HST/product/hst_10494_01_acs_wfc_f814w_j9c701ys_flc.fits to ../lenses/SDSSJ1627-0053/F814W_ACS/raw_data/mastDownload/HST/hst_10494_01_acs_wfc_f814w_j9c701ys/hst_10494_01_acs_wfc_f814w_j9c701ys_flc.fits ... [Done]\n",
      "Downloading URL https://mast.stsci.edu/api/v0.1/Download/file?uri=mast:HST/product/hst_10494_01_acs_wfc_f814w_j9c701z1_flc.fits to ../lenses/SDSSJ1627-0053/F814W_ACS/raw_data/mastDownload/HST/hst_10494_01_acs_wfc_f814w_j9c701z1/hst_10494_01_acs_wfc_f814w_j9c701z1_flc.fits ... [Done]\n",
      "Downloading URL https://mast.stsci.edu/api/v0.1/Download/file?uri=mast:HST/product/hst_10494_01_acs_wfc_f814w_j9c701z3_flc.fits to ../lenses/SDSSJ1627-0053/F814W_ACS/raw_data/mastDownload/HST/hst_10494_01_acs_wfc_f814w_j9c701z3/hst_10494_01_acs_wfc_f814w_j9c701z3_flc.fits ... [Done]\n",
      "Downloading URL https://mast.stsci.edu/api/v0.1/Download/file?uri=mast:HST/product/hst_10494_01_acs_wfc_f814w_j9c701z5_flc.fits to ../lenses/SDSSJ1627-0053/F814W_ACS/raw_data/mastDownload/HST/hst_10494_01_acs_wfc_f814w_j9c701z5/hst_10494_01_acs_wfc_f814w_j9c701z5_flc.fits ... [Done]\n",
      "Downloading URL https://mast.stsci.edu/api/v0.1/Download/file?uri=mast:HST/product/j9c701ysq_flc.fits to ../lenses/SDSSJ1627-0053/F814W_ACS/raw_data/mastDownload/HST/j9c701ysq/j9c701ysq_flc.fits ... [Done]\n",
      "Downloading URL https://mast.stsci.edu/api/v0.1/Download/file?uri=mast:HST/product/j9c701z1q_flc.fits to ../lenses/SDSSJ1627-0053/F814W_ACS/raw_data/mastDownload/HST/j9c701z1q/j9c701z1q_flc.fits ... [Done]\n",
      "Downloading URL https://mast.stsci.edu/api/v0.1/Download/file?uri=mast:HST/product/j9c701z3q_flc.fits to ../lenses/SDSSJ1627-0053/F814W_ACS/raw_data/mastDownload/HST/j9c701z3q/j9c701z3q_flc.fits ... [Done]\n",
      "Downloading URL https://mast.stsci.edu/api/v0.1/Download/file?uri=mast:HST/product/j9c701z5q_flc.fits to ../lenses/SDSSJ1627-0053/F814W_ACS/raw_data/mastDownload/HST/j9c701z5q/j9c701z5q_flc.fits ... [Done]\n",
      "INFO: Found cached file ../lenses/SDSSJ1627-0053/F814W_ACS/raw_data/mastDownload/HST/hst_10494_01_acs_wfc_f814w_j9c701ys/hst_10494_01_acs_wfc_f814w_j9c701ys_flc.fits with expected size 168500160. [astroquery.query]\n",
      "INFO: Found cached file ../lenses/SDSSJ1627-0053/F814W_ACS/raw_data/mastDownload/HST/hst_10494_01_acs_wfc_f814w_j9c701z1/hst_10494_01_acs_wfc_f814w_j9c701z1_flc.fits with expected size 168448320. [astroquery.query]\n",
      "INFO: Found cached file ../lenses/SDSSJ1627-0053/F814W_ACS/raw_data/mastDownload/HST/hst_10494_01_acs_wfc_f814w_j9c701z3/hst_10494_01_acs_wfc_f814w_j9c701z3_flc.fits with expected size 168500160. [astroquery.query]\n",
      "INFO: Found cached file ../lenses/SDSSJ1627-0053/F814W_ACS/raw_data/mastDownload/HST/hst_10494_01_acs_wfc_f814w_j9c701z5/hst_10494_01_acs_wfc_f814w_j9c701z5_flc.fits with expected size 168500160. [astroquery.query]\n",
      "INFO: Found cached file ../lenses/SDSSJ1627-0053/F814W_ACS/raw_data/mastDownload/HST/j9c701ysq/j9c701ysq_flc.fits with expected size 168379200. [astroquery.query]\n",
      "INFO: Found cached file ../lenses/SDSSJ1627-0053/F814W_ACS/raw_data/mastDownload/HST/j9c701z1q/j9c701z1q_flc.fits with expected size 168327360. [astroquery.query]\n",
      "INFO: Found cached file ../lenses/SDSSJ1627-0053/F814W_ACS/raw_data/mastDownload/HST/j9c701z3q/j9c701z3q_flc.fits with expected size 168379200. [astroquery.query]\n",
      "INFO: Found cached file ../lenses/SDSSJ1627-0053/F814W_ACS/raw_data/mastDownload/HST/j9c701z5q/j9c701z5q_flc.fits with expected size 168379200. [astroquery.query]\n",
      "INFO: Found cached file ../lenses/SDSSJ1627-0053/F814W_ACS/raw_data/mastDownload/HST/j9c701ysq/j9c701ysq_flc.fits with expected size 168379200. [astroquery.query]\n",
      "INFO: Found cached file ../lenses/SDSSJ1627-0053/F814W_ACS/raw_data/mastDownload/HST/j9c701z1q/j9c701z1q_flc.fits with expected size 168327360. [astroquery.query]\n",
      "INFO: Found cached file ../lenses/SDSSJ1627-0053/F814W_ACS/raw_data/mastDownload/HST/j9c701z3q/j9c701z3q_flc.fits with expected size 168379200. [astroquery.query]\n",
      "INFO: Found cached file ../lenses/SDSSJ1627-0053/F814W_ACS/raw_data/mastDownload/HST/j9c701z5q/j9c701z5q_flc.fits with expected size 168379200. [astroquery.query]\n"
     ]
    }
   ],
   "source": [
    "MAST_Downloader('SDSSJ1627-0053', 'SDSS-J162746.44-005357.5','F390W','WFC3','12898')\n",
    "MAST_Downloader('SDSSJ1627-0053', 'GAL-0364-52000-084','F555W','ACS','10494')\n",
    "MAST_Downloader('SDSSJ1627-0053', 'GAL-0364-52000-084','F814W','ACS','10494')"
   ]
  },
  {
   "cell_type": "code",
   "execution_count": null,
   "id": "f695178d",
   "metadata": {},
   "outputs": [],
   "source": []
  }
 ],
 "metadata": {
  "kernelspec": {
   "display_name": "Python 3",
   "language": "python",
   "name": "python3"
  },
  "language_info": {
   "codemirror_mode": {
    "name": "ipython",
    "version": 3
   },
   "file_extension": ".py",
   "mimetype": "text/x-python",
   "name": "python",
   "nbconvert_exporter": "python",
   "pygments_lexer": "ipython3",
   "version": "3.6.12"
  }
 },
 "nbformat": 4,
 "nbformat_minor": 5
}
